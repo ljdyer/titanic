{
 "cells": [
  {
   "cell_type": "code",
   "execution_count": 1,
   "id": "700245e1",
   "metadata": {
    "_cell_guid": "b1076dfc-b9ad-4769-8c92-a6c4dae69d19",
    "_uuid": "8f2839f25d086af736a60e9eeb907d3b93b6e0e5",
    "execution": {
     "iopub.execute_input": "2022-01-14T17:40:02.196567Z",
     "iopub.status.busy": "2022-01-14T17:40:02.195446Z",
     "iopub.status.idle": "2022-01-14T17:40:03.406169Z",
     "shell.execute_reply": "2022-01-14T17:40:03.405440Z",
     "shell.execute_reply.started": "2022-01-14T17:39:39.178081Z"
    },
    "papermill": {
     "duration": 1.228178,
     "end_time": "2022-01-14T17:40:03.406347",
     "exception": false,
     "start_time": "2022-01-14T17:40:02.178169",
     "status": "completed"
    },
    "tags": []
   },
   "outputs": [],
   "source": [
    "import numpy as np\n",
    "import pandas as pd\n",
    "from sklearn.ensemble import RandomForestClassifier"
   ]
  },
  {
   "cell_type": "code",
   "execution_count": 2,
   "id": "cc645609",
   "metadata": {
    "execution": {
     "iopub.execute_input": "2022-01-14T17:40:03.438102Z",
     "iopub.status.busy": "2022-01-14T17:40:03.437019Z",
     "iopub.status.idle": "2022-01-14T17:40:03.476596Z",
     "shell.execute_reply": "2022-01-14T17:40:03.475915Z",
     "shell.execute_reply.started": "2022-01-14T17:39:39.184558Z"
    },
    "papermill": {
     "duration": 0.058155,
     "end_time": "2022-01-14T17:40:03.476736",
     "exception": false,
     "start_time": "2022-01-14T17:40:03.418581",
     "status": "completed"
    },
    "tags": []
   },
   "outputs": [],
   "source": [
    "def concatenate_df(df1, df2):\n",
    "    \"\"\"Concatenate two pandas dataframes\"\"\"\n",
    "    \n",
    "    return pd.concat([df1, df2], sort=True).reset_index(drop=True)\n",
    "\n",
    "# Load data\n",
    "\n",
    "train_data = pd.read_csv(\"/kaggle/input/titanic/train.csv\")\n",
    "test_data = pd.read_csv(\"/kaggle/input/titanic/test.csv\")\n",
    "\n",
    "# Combine data\n",
    "\n",
    "all_data = concatenate_df(train_data, test_data)"
   ]
  },
  {
   "cell_type": "markdown",
   "id": "04b1f6a6",
   "metadata": {
    "papermill": {
     "duration": 0.010924,
     "end_time": "2022-01-14T17:40:03.498741",
     "exception": false,
     "start_time": "2022-01-14T17:40:03.487817",
     "status": "completed"
    },
    "tags": []
   },
   "source": [
    "# Data cleaning\n",
    "\n",
    "See Version 12 for details of the following."
   ]
  },
  {
   "cell_type": "code",
   "execution_count": 3,
   "id": "2a825e40",
   "metadata": {
    "execution": {
     "iopub.execute_input": "2022-01-14T17:40:03.538060Z",
     "iopub.status.busy": "2022-01-14T17:40:03.537068Z",
     "iopub.status.idle": "2022-01-14T17:40:03.554955Z",
     "shell.execute_reply": "2022-01-14T17:40:03.554423Z",
     "shell.execute_reply.started": "2022-01-14T17:39:39.216105Z"
    },
    "papermill": {
     "duration": 0.044601,
     "end_time": "2022-01-14T17:40:03.555108",
     "exception": false,
     "start_time": "2022-01-14T17:40:03.510507",
     "status": "completed"
    },
    "tags": []
   },
   "outputs": [],
   "source": [
    "# Fill in missing ages\n",
    "\n",
    "# SibSp seems to be as good a predictor of age as any (>= 2 indicates travelling with siblings, which likely means a child)\n",
    "all_data['Age'] = all_data.groupby(['SibSp'])['Age'].apply(lambda x: x.fillna(x.median()))\n",
    "# Use Pclass and Sex as a backup\n",
    "all_data['Age'] = all_data.groupby(['Pclass', 'Sex'])['Age'].apply(lambda x: x.fillna(x.median()))\n",
    "\n",
    "# Fill in missing fare\n",
    "\n",
    "mr_thomas_fare = all_data.loc[(all_data['Pclass'] == 3) & (all_data['SibSp'] == 0) & (all_data['Embarked'] == 'S')]['Fare'].median()\n",
    "all_data.loc[all_data['Fare'].isnull(), 'Fare'] = mr_thomas_fare\n",
    "\n",
    "# Fill in missing embarkeds\n",
    "\n",
    "all_data.loc[61, 'Embarked'] = 'S'\n",
    "all_data.loc[829, 'Embarked'] = 'S'\n",
    "\n",
    "# Keep first letter of cabin (indicating deck) only and insert 'M' for missing\n",
    "\n",
    "all_data['Deck'] = all_data['Cabin'].apply(lambda c: c[0] if pd.notnull(c) else 'M')"
   ]
  },
  {
   "cell_type": "markdown",
   "id": "9351312f",
   "metadata": {
    "papermill": {
     "duration": 0.012286,
     "end_time": "2022-01-14T17:40:03.578535",
     "exception": false,
     "start_time": "2022-01-14T17:40:03.566249",
     "status": "completed"
    },
    "tags": []
   },
   "source": [
    "# Feature engineering"
   ]
  },
  {
   "cell_type": "markdown",
   "id": "f7aeeff0",
   "metadata": {
    "papermill": {
     "duration": 0.011734,
     "end_time": "2022-01-14T17:40:03.601864",
     "exception": false,
     "start_time": "2022-01-14T17:40:03.590130",
     "status": "completed"
    },
    "tags": []
   },
   "source": [
    "## Binning\n",
    "\n",
    "See Version 12 for details of the following."
   ]
  },
  {
   "cell_type": "code",
   "execution_count": 4,
   "id": "5237cb83",
   "metadata": {
    "execution": {
     "iopub.execute_input": "2022-01-14T17:40:03.631634Z",
     "iopub.status.busy": "2022-01-14T17:40:03.630623Z",
     "iopub.status.idle": "2022-01-14T17:40:03.643806Z",
     "shell.execute_reply": "2022-01-14T17:40:03.644273Z",
     "shell.execute_reply.started": "2022-01-14T17:39:39.243434Z"
    },
    "papermill": {
     "duration": 0.031461,
     "end_time": "2022-01-14T17:40:03.644462",
     "exception": false,
     "start_time": "2022-01-14T17:40:03.613001",
     "status": "completed"
    },
    "tags": []
   },
   "outputs": [],
   "source": [
    "# Outliers can disrupt learning, so split up the distribution for each\n",
    "\n",
    "# For Fare, use qcut to assign approximately equal number of cases to each category\n",
    "all_data['Fare'] = pd.qcut(all_data['Fare'], 5)\n",
    "# For Age, use cut to split according to values\n",
    "all_data['Age'] = pd.cut(all_data['Age'].astype(int), 5)"
   ]
  },
  {
   "cell_type": "markdown",
   "id": "cbd05c42",
   "metadata": {
    "papermill": {
     "duration": 0.01088,
     "end_time": "2022-01-14T17:40:03.666917",
     "exception": false,
     "start_time": "2022-01-14T17:40:03.656037",
     "status": "completed"
    },
    "tags": []
   },
   "source": [
    "## New feature creation\n",
    "\n",
    "See Version 12 for details of the following."
   ]
  },
  {
   "cell_type": "code",
   "execution_count": 5,
   "id": "ba0d2431",
   "metadata": {
    "execution": {
     "iopub.execute_input": "2022-01-14T17:40:03.693257Z",
     "iopub.status.busy": "2022-01-14T17:40:03.692322Z",
     "iopub.status.idle": "2022-01-14T17:40:03.705003Z",
     "shell.execute_reply": "2022-01-14T17:40:03.703986Z",
     "shell.execute_reply.started": "2022-01-14T17:39:39.255492Z"
    },
    "papermill": {
     "duration": 0.02665,
     "end_time": "2022-01-14T17:40:03.705222",
     "exception": false,
     "start_time": "2022-01-14T17:40:03.678572",
     "status": "completed"
    },
    "tags": []
   },
   "outputs": [],
   "source": [
    "# Combine sibSp and Parch to create new feature Family_Size\n",
    "all_data['Family_Size'] = all_data['SibSp'] + all_data['Parch'] + 1\n",
    "# Bin family size to group to group family size of four of higher into a single value\n",
    "all_data['Family_Size_Bin'] = all_data['Family_Size'].map(lambda fs: fs if fs <= 3 else (4 if fs > 3 else 0))\n",
    "\n",
    "# Create Ticket_Frequency feature\n",
    "all_data['Ticket_Freq'] = all_data.groupby('Ticket')['Ticket'].transform('count')"
   ]
  },
  {
   "cell_type": "markdown",
   "id": "9a407d71",
   "metadata": {
    "papermill": {
     "duration": 0.011021,
     "end_time": "2022-01-14T17:40:03.728038",
     "exception": false,
     "start_time": "2022-01-14T17:40:03.717017",
     "status": "completed"
    },
    "tags": []
   },
   "source": [
    "See Version 15 for details of the following"
   ]
  },
  {
   "cell_type": "code",
   "execution_count": 6,
   "id": "b850fde8",
   "metadata": {
    "execution": {
     "iopub.execute_input": "2022-01-14T17:40:03.777061Z",
     "iopub.status.busy": "2022-01-14T17:40:03.776097Z",
     "iopub.status.idle": "2022-01-14T17:40:03.778940Z",
     "shell.execute_reply": "2022-01-14T17:40:03.778452Z",
     "shell.execute_reply.started": "2022-01-14T17:39:39.268913Z"
    },
    "papermill": {
     "duration": 0.039987,
     "end_time": "2022-01-14T17:40:03.779095",
     "exception": false,
     "start_time": "2022-01-14T17:40:03.739108",
     "status": "completed"
    },
    "tags": []
   },
   "outputs": [],
   "source": [
    "def title(name):\n",
    "    \"\"\"Get the title from a passenger's name\n",
    "    \n",
    "    Return False if no title is found\"\"\"\n",
    "    \n",
    "    parts = name.split()\n",
    "    ends_with_period = [part for part in parts if part.endswith('.')]\n",
    "    if ends_with_period:\n",
    "        return ends_with_period[0]\n",
    "    else:\n",
    "        return None\n",
    "    \n",
    "\n",
    "all_data['Title'] = [title(x) for x in all_data['Name']]\n",
    "rare = (all_data['Title'].value_counts() < 10)\n",
    "all_data['Title'] = all_data['Title'].apply(lambda x: 'misc' if rare.loc[x] else x)"
   ]
  },
  {
   "cell_type": "markdown",
   "id": "71e7bfec",
   "metadata": {
    "execution": {
     "iopub.execute_input": "2022-01-14T16:34:17.020116Z",
     "iopub.status.busy": "2022-01-14T16:34:17.019811Z",
     "iopub.status.idle": "2022-01-14T16:34:17.046294Z",
     "shell.execute_reply": "2022-01-14T16:34:17.044774Z",
     "shell.execute_reply.started": "2022-01-14T16:34:17.020085Z"
    },
    "papermill": {
     "duration": 0.010849,
     "end_time": "2022-01-14T17:40:03.801222",
     "exception": false,
     "start_time": "2022-01-14T17:40:03.790373",
     "status": "completed"
    },
    "tags": []
   },
   "source": [
    "# Encoding"
   ]
  },
  {
   "cell_type": "code",
   "execution_count": 7,
   "id": "7dff974c",
   "metadata": {
    "execution": {
     "iopub.execute_input": "2022-01-14T17:40:03.831128Z",
     "iopub.status.busy": "2022-01-14T17:40:03.830154Z",
     "iopub.status.idle": "2022-01-14T17:40:03.853206Z",
     "shell.execute_reply": "2022-01-14T17:40:03.852652Z",
     "shell.execute_reply.started": "2022-01-14T17:39:39.304384Z"
    },
    "papermill": {
     "duration": 0.040381,
     "end_time": "2022-01-14T17:40:03.853352",
     "exception": false,
     "start_time": "2022-01-14T17:40:03.812971",
     "status": "completed"
    },
    "tags": []
   },
   "outputs": [
    {
     "data": {
      "text/html": [
       "<div>\n",
       "<style scoped>\n",
       "    .dataframe tbody tr th:only-of-type {\n",
       "        vertical-align: middle;\n",
       "    }\n",
       "\n",
       "    .dataframe tbody tr th {\n",
       "        vertical-align: top;\n",
       "    }\n",
       "\n",
       "    .dataframe thead th {\n",
       "        text-align: right;\n",
       "    }\n",
       "</style>\n",
       "<table border=\"1\" class=\"dataframe\">\n",
       "  <thead>\n",
       "    <tr style=\"text-align: right;\">\n",
       "      <th></th>\n",
       "      <th>Age</th>\n",
       "      <th>Cabin</th>\n",
       "      <th>Embarked</th>\n",
       "      <th>Fare</th>\n",
       "      <th>Name</th>\n",
       "      <th>Parch</th>\n",
       "      <th>PassengerId</th>\n",
       "      <th>Pclass</th>\n",
       "      <th>Sex</th>\n",
       "      <th>SibSp</th>\n",
       "      <th>Survived</th>\n",
       "      <th>Ticket</th>\n",
       "      <th>Deck</th>\n",
       "      <th>Family_Size</th>\n",
       "      <th>Family_Size_Bin</th>\n",
       "      <th>Ticket_Freq</th>\n",
       "      <th>Title</th>\n",
       "    </tr>\n",
       "  </thead>\n",
       "  <tbody>\n",
       "    <tr>\n",
       "      <th>0</th>\n",
       "      <td>(16.0, 32.0]</td>\n",
       "      <td>NaN</td>\n",
       "      <td>S</td>\n",
       "      <td>(-0.001, 7.854]</td>\n",
       "      <td>Braund, Mr. Owen Harris</td>\n",
       "      <td>0</td>\n",
       "      <td>1</td>\n",
       "      <td>3</td>\n",
       "      <td>male</td>\n",
       "      <td>1</td>\n",
       "      <td>0.0</td>\n",
       "      <td>A/5 21171</td>\n",
       "      <td>M</td>\n",
       "      <td>2</td>\n",
       "      <td>2</td>\n",
       "      <td>1</td>\n",
       "      <td>Mr.</td>\n",
       "    </tr>\n",
       "    <tr>\n",
       "      <th>1</th>\n",
       "      <td>(32.0, 48.0]</td>\n",
       "      <td>C85</td>\n",
       "      <td>C</td>\n",
       "      <td>(41.579, 512.329]</td>\n",
       "      <td>Cumings, Mrs. John Bradley (Florence Briggs Th...</td>\n",
       "      <td>0</td>\n",
       "      <td>2</td>\n",
       "      <td>1</td>\n",
       "      <td>female</td>\n",
       "      <td>1</td>\n",
       "      <td>1.0</td>\n",
       "      <td>PC 17599</td>\n",
       "      <td>C</td>\n",
       "      <td>2</td>\n",
       "      <td>2</td>\n",
       "      <td>2</td>\n",
       "      <td>Mrs.</td>\n",
       "    </tr>\n",
       "    <tr>\n",
       "      <th>2</th>\n",
       "      <td>(16.0, 32.0]</td>\n",
       "      <td>NaN</td>\n",
       "      <td>S</td>\n",
       "      <td>(7.854, 10.5]</td>\n",
       "      <td>Heikkinen, Miss. Laina</td>\n",
       "      <td>0</td>\n",
       "      <td>3</td>\n",
       "      <td>3</td>\n",
       "      <td>female</td>\n",
       "      <td>0</td>\n",
       "      <td>1.0</td>\n",
       "      <td>STON/O2. 3101282</td>\n",
       "      <td>M</td>\n",
       "      <td>1</td>\n",
       "      <td>1</td>\n",
       "      <td>1</td>\n",
       "      <td>Miss.</td>\n",
       "    </tr>\n",
       "    <tr>\n",
       "      <th>3</th>\n",
       "      <td>(32.0, 48.0]</td>\n",
       "      <td>C123</td>\n",
       "      <td>S</td>\n",
       "      <td>(41.579, 512.329]</td>\n",
       "      <td>Futrelle, Mrs. Jacques Heath (Lily May Peel)</td>\n",
       "      <td>0</td>\n",
       "      <td>4</td>\n",
       "      <td>1</td>\n",
       "      <td>female</td>\n",
       "      <td>1</td>\n",
       "      <td>1.0</td>\n",
       "      <td>113803</td>\n",
       "      <td>C</td>\n",
       "      <td>2</td>\n",
       "      <td>2</td>\n",
       "      <td>2</td>\n",
       "      <td>Mrs.</td>\n",
       "    </tr>\n",
       "    <tr>\n",
       "      <th>4</th>\n",
       "      <td>(32.0, 48.0]</td>\n",
       "      <td>NaN</td>\n",
       "      <td>S</td>\n",
       "      <td>(7.854, 10.5]</td>\n",
       "      <td>Allen, Mr. William Henry</td>\n",
       "      <td>0</td>\n",
       "      <td>5</td>\n",
       "      <td>3</td>\n",
       "      <td>male</td>\n",
       "      <td>0</td>\n",
       "      <td>0.0</td>\n",
       "      <td>373450</td>\n",
       "      <td>M</td>\n",
       "      <td>1</td>\n",
       "      <td>1</td>\n",
       "      <td>1</td>\n",
       "      <td>Mr.</td>\n",
       "    </tr>\n",
       "  </tbody>\n",
       "</table>\n",
       "</div>"
      ],
      "text/plain": [
       "            Age Cabin Embarked               Fare  \\\n",
       "0  (16.0, 32.0]   NaN        S    (-0.001, 7.854]   \n",
       "1  (32.0, 48.0]   C85        C  (41.579, 512.329]   \n",
       "2  (16.0, 32.0]   NaN        S      (7.854, 10.5]   \n",
       "3  (32.0, 48.0]  C123        S  (41.579, 512.329]   \n",
       "4  (32.0, 48.0]   NaN        S      (7.854, 10.5]   \n",
       "\n",
       "                                                Name  Parch  PassengerId  \\\n",
       "0                            Braund, Mr. Owen Harris      0            1   \n",
       "1  Cumings, Mrs. John Bradley (Florence Briggs Th...      0            2   \n",
       "2                             Heikkinen, Miss. Laina      0            3   \n",
       "3       Futrelle, Mrs. Jacques Heath (Lily May Peel)      0            4   \n",
       "4                           Allen, Mr. William Henry      0            5   \n",
       "\n",
       "   Pclass     Sex  SibSp  Survived            Ticket Deck  Family_Size  \\\n",
       "0       3    male      1       0.0         A/5 21171    M            2   \n",
       "1       1  female      1       1.0          PC 17599    C            2   \n",
       "2       3  female      0       1.0  STON/O2. 3101282    M            1   \n",
       "3       1  female      1       1.0            113803    C            2   \n",
       "4       3    male      0       0.0            373450    M            1   \n",
       "\n",
       "   Family_Size_Bin  Ticket_Freq  Title  \n",
       "0                2            1    Mr.  \n",
       "1                2            2   Mrs.  \n",
       "2                1            1  Miss.  \n",
       "3                2            2   Mrs.  \n",
       "4                1            1    Mr.  "
      ]
     },
     "execution_count": 7,
     "metadata": {},
     "output_type": "execute_result"
    }
   ],
   "source": [
    "all_data.head()"
   ]
  },
  {
   "cell_type": "markdown",
   "id": "f4451527",
   "metadata": {
    "papermill": {
     "duration": 0.011568,
     "end_time": "2022-01-14T17:40:03.876918",
     "exception": false,
     "start_time": "2022-01-14T17:40:03.865350",
     "status": "completed"
    },
    "tags": []
   },
   "source": [
    "Label encode non-numeric features"
   ]
  },
  {
   "cell_type": "code",
   "execution_count": 8,
   "id": "eda21b3e",
   "metadata": {
    "execution": {
     "iopub.execute_input": "2022-01-14T17:40:03.915696Z",
     "iopub.status.busy": "2022-01-14T17:40:03.906707Z",
     "iopub.status.idle": "2022-01-14T17:40:03.918668Z",
     "shell.execute_reply": "2022-01-14T17:40:03.918040Z",
     "shell.execute_reply.started": "2022-01-14T17:39:39.337402Z"
    },
    "papermill": {
     "duration": 0.030182,
     "end_time": "2022-01-14T17:40:03.918806",
     "exception": false,
     "start_time": "2022-01-14T17:40:03.888624",
     "status": "completed"
    },
    "tags": []
   },
   "outputs": [],
   "source": [
    "from sklearn.preprocessing import LabelEncoder\n",
    "\n",
    "label_encoder = LabelEncoder()\n",
    "non_numeric = ['Age', 'Embarked', 'Fare', 'Sex', 'Deck', 'Title']\n",
    "\n",
    "for feature in non_numeric:\n",
    "    all_data[feature] = label_encoder.fit_transform(all_data[feature])"
   ]
  },
  {
   "cell_type": "code",
   "execution_count": 9,
   "id": "f33fd441",
   "metadata": {
    "execution": {
     "iopub.execute_input": "2022-01-14T17:40:03.957611Z",
     "iopub.status.busy": "2022-01-14T17:40:03.956670Z",
     "iopub.status.idle": "2022-01-14T17:40:03.961096Z",
     "shell.execute_reply": "2022-01-14T17:40:03.960466Z",
     "shell.execute_reply.started": "2022-01-14T17:39:39.365004Z"
    },
    "papermill": {
     "duration": 0.030522,
     "end_time": "2022-01-14T17:40:03.961238",
     "exception": false,
     "start_time": "2022-01-14T17:40:03.930716",
     "status": "completed"
    },
    "tags": []
   },
   "outputs": [
    {
     "data": {
      "text/html": [
       "<div>\n",
       "<style scoped>\n",
       "    .dataframe tbody tr th:only-of-type {\n",
       "        vertical-align: middle;\n",
       "    }\n",
       "\n",
       "    .dataframe tbody tr th {\n",
       "        vertical-align: top;\n",
       "    }\n",
       "\n",
       "    .dataframe thead th {\n",
       "        text-align: right;\n",
       "    }\n",
       "</style>\n",
       "<table border=\"1\" class=\"dataframe\">\n",
       "  <thead>\n",
       "    <tr style=\"text-align: right;\">\n",
       "      <th></th>\n",
       "      <th>Age</th>\n",
       "      <th>Cabin</th>\n",
       "      <th>Embarked</th>\n",
       "      <th>Fare</th>\n",
       "      <th>Name</th>\n",
       "      <th>Parch</th>\n",
       "      <th>PassengerId</th>\n",
       "      <th>Pclass</th>\n",
       "      <th>Sex</th>\n",
       "      <th>SibSp</th>\n",
       "      <th>Survived</th>\n",
       "      <th>Ticket</th>\n",
       "      <th>Deck</th>\n",
       "      <th>Family_Size</th>\n",
       "      <th>Family_Size_Bin</th>\n",
       "      <th>Ticket_Freq</th>\n",
       "      <th>Title</th>\n",
       "    </tr>\n",
       "  </thead>\n",
       "  <tbody>\n",
       "    <tr>\n",
       "      <th>0</th>\n",
       "      <td>1</td>\n",
       "      <td>NaN</td>\n",
       "      <td>2</td>\n",
       "      <td>0</td>\n",
       "      <td>Braund, Mr. Owen Harris</td>\n",
       "      <td>0</td>\n",
       "      <td>1</td>\n",
       "      <td>3</td>\n",
       "      <td>1</td>\n",
       "      <td>1</td>\n",
       "      <td>0.0</td>\n",
       "      <td>A/5 21171</td>\n",
       "      <td>7</td>\n",
       "      <td>2</td>\n",
       "      <td>2</td>\n",
       "      <td>1</td>\n",
       "      <td>2</td>\n",
       "    </tr>\n",
       "    <tr>\n",
       "      <th>1</th>\n",
       "      <td>2</td>\n",
       "      <td>C85</td>\n",
       "      <td>0</td>\n",
       "      <td>4</td>\n",
       "      <td>Cumings, Mrs. John Bradley (Florence Briggs Th...</td>\n",
       "      <td>0</td>\n",
       "      <td>2</td>\n",
       "      <td>1</td>\n",
       "      <td>0</td>\n",
       "      <td>1</td>\n",
       "      <td>1.0</td>\n",
       "      <td>PC 17599</td>\n",
       "      <td>2</td>\n",
       "      <td>2</td>\n",
       "      <td>2</td>\n",
       "      <td>2</td>\n",
       "      <td>3</td>\n",
       "    </tr>\n",
       "    <tr>\n",
       "      <th>2</th>\n",
       "      <td>1</td>\n",
       "      <td>NaN</td>\n",
       "      <td>2</td>\n",
       "      <td>1</td>\n",
       "      <td>Heikkinen, Miss. Laina</td>\n",
       "      <td>0</td>\n",
       "      <td>3</td>\n",
       "      <td>3</td>\n",
       "      <td>0</td>\n",
       "      <td>0</td>\n",
       "      <td>1.0</td>\n",
       "      <td>STON/O2. 3101282</td>\n",
       "      <td>7</td>\n",
       "      <td>1</td>\n",
       "      <td>1</td>\n",
       "      <td>1</td>\n",
       "      <td>1</td>\n",
       "    </tr>\n",
       "    <tr>\n",
       "      <th>3</th>\n",
       "      <td>2</td>\n",
       "      <td>C123</td>\n",
       "      <td>2</td>\n",
       "      <td>4</td>\n",
       "      <td>Futrelle, Mrs. Jacques Heath (Lily May Peel)</td>\n",
       "      <td>0</td>\n",
       "      <td>4</td>\n",
       "      <td>1</td>\n",
       "      <td>0</td>\n",
       "      <td>1</td>\n",
       "      <td>1.0</td>\n",
       "      <td>113803</td>\n",
       "      <td>2</td>\n",
       "      <td>2</td>\n",
       "      <td>2</td>\n",
       "      <td>2</td>\n",
       "      <td>3</td>\n",
       "    </tr>\n",
       "    <tr>\n",
       "      <th>4</th>\n",
       "      <td>2</td>\n",
       "      <td>NaN</td>\n",
       "      <td>2</td>\n",
       "      <td>1</td>\n",
       "      <td>Allen, Mr. William Henry</td>\n",
       "      <td>0</td>\n",
       "      <td>5</td>\n",
       "      <td>3</td>\n",
       "      <td>1</td>\n",
       "      <td>0</td>\n",
       "      <td>0.0</td>\n",
       "      <td>373450</td>\n",
       "      <td>7</td>\n",
       "      <td>1</td>\n",
       "      <td>1</td>\n",
       "      <td>1</td>\n",
       "      <td>2</td>\n",
       "    </tr>\n",
       "  </tbody>\n",
       "</table>\n",
       "</div>"
      ],
      "text/plain": [
       "   Age Cabin  Embarked  Fare  \\\n",
       "0    1   NaN         2     0   \n",
       "1    2   C85         0     4   \n",
       "2    1   NaN         2     1   \n",
       "3    2  C123         2     4   \n",
       "4    2   NaN         2     1   \n",
       "\n",
       "                                                Name  Parch  PassengerId  \\\n",
       "0                            Braund, Mr. Owen Harris      0            1   \n",
       "1  Cumings, Mrs. John Bradley (Florence Briggs Th...      0            2   \n",
       "2                             Heikkinen, Miss. Laina      0            3   \n",
       "3       Futrelle, Mrs. Jacques Heath (Lily May Peel)      0            4   \n",
       "4                           Allen, Mr. William Henry      0            5   \n",
       "\n",
       "   Pclass  Sex  SibSp  Survived            Ticket  Deck  Family_Size  \\\n",
       "0       3    1      1       0.0         A/5 21171     7            2   \n",
       "1       1    0      1       1.0          PC 17599     2            2   \n",
       "2       3    0      0       1.0  STON/O2. 3101282     7            1   \n",
       "3       1    0      1       1.0            113803     2            2   \n",
       "4       3    1      0       0.0            373450     7            1   \n",
       "\n",
       "   Family_Size_Bin  Ticket_Freq  Title  \n",
       "0                2            1      2  \n",
       "1                2            2      3  \n",
       "2                1            1      1  \n",
       "3                2            2      3  \n",
       "4                1            1      2  "
      ]
     },
     "execution_count": 9,
     "metadata": {},
     "output_type": "execute_result"
    }
   ],
   "source": [
    "all_data.head()"
   ]
  },
  {
   "cell_type": "markdown",
   "id": "2fc1c27a",
   "metadata": {
    "papermill": {
     "duration": 0.011849,
     "end_time": "2022-01-14T17:40:03.985449",
     "exception": false,
     "start_time": "2022-01-14T17:40:03.973600",
     "status": "completed"
    },
    "tags": []
   },
   "source": [
    "One-hot encode categorical features"
   ]
  },
  {
   "cell_type": "code",
   "execution_count": 10,
   "id": "65c13f46",
   "metadata": {
    "execution": {
     "iopub.execute_input": "2022-01-14T17:40:04.021981Z",
     "iopub.status.busy": "2022-01-14T17:40:04.020877Z",
     "iopub.status.idle": "2022-01-14T17:40:04.073924Z",
     "shell.execute_reply": "2022-01-14T17:40:04.073376Z",
     "shell.execute_reply.started": "2022-01-14T17:39:39.427781Z"
    },
    "papermill": {
     "duration": 0.076555,
     "end_time": "2022-01-14T17:40:04.074069",
     "exception": false,
     "start_time": "2022-01-14T17:40:03.997514",
     "status": "completed"
    },
    "tags": []
   },
   "outputs": [
    {
     "data": {
      "text/html": [
       "<div>\n",
       "<style scoped>\n",
       "    .dataframe tbody tr th:only-of-type {\n",
       "        vertical-align: middle;\n",
       "    }\n",
       "\n",
       "    .dataframe tbody tr th {\n",
       "        vertical-align: top;\n",
       "    }\n",
       "\n",
       "    .dataframe thead th {\n",
       "        text-align: right;\n",
       "    }\n",
       "</style>\n",
       "<table border=\"1\" class=\"dataframe\">\n",
       "  <thead>\n",
       "    <tr style=\"text-align: right;\">\n",
       "      <th></th>\n",
       "      <th>Cabin</th>\n",
       "      <th>Name</th>\n",
       "      <th>Parch</th>\n",
       "      <th>PassengerId</th>\n",
       "      <th>SibSp</th>\n",
       "      <th>Survived</th>\n",
       "      <th>Ticket</th>\n",
       "      <th>Family_Size</th>\n",
       "      <th>Ticket_Freq</th>\n",
       "      <th>Pclass_1</th>\n",
       "      <th>...</th>\n",
       "      <th>Deck_7</th>\n",
       "      <th>Deck_8</th>\n",
       "      <th>Embarked_0</th>\n",
       "      <th>Embarked_1</th>\n",
       "      <th>Embarked_2</th>\n",
       "      <th>Title_0</th>\n",
       "      <th>Title_1</th>\n",
       "      <th>Title_2</th>\n",
       "      <th>Title_3</th>\n",
       "      <th>Title_4</th>\n",
       "    </tr>\n",
       "  </thead>\n",
       "  <tbody>\n",
       "    <tr>\n",
       "      <th>0</th>\n",
       "      <td>NaN</td>\n",
       "      <td>Braund, Mr. Owen Harris</td>\n",
       "      <td>0</td>\n",
       "      <td>1</td>\n",
       "      <td>1</td>\n",
       "      <td>0.0</td>\n",
       "      <td>A/5 21171</td>\n",
       "      <td>2</td>\n",
       "      <td>1</td>\n",
       "      <td>0.0</td>\n",
       "      <td>...</td>\n",
       "      <td>1.0</td>\n",
       "      <td>0.0</td>\n",
       "      <td>0.0</td>\n",
       "      <td>0.0</td>\n",
       "      <td>1.0</td>\n",
       "      <td>0.0</td>\n",
       "      <td>0.0</td>\n",
       "      <td>1.0</td>\n",
       "      <td>0.0</td>\n",
       "      <td>0.0</td>\n",
       "    </tr>\n",
       "    <tr>\n",
       "      <th>1</th>\n",
       "      <td>C85</td>\n",
       "      <td>Cumings, Mrs. John Bradley (Florence Briggs Th...</td>\n",
       "      <td>0</td>\n",
       "      <td>2</td>\n",
       "      <td>1</td>\n",
       "      <td>1.0</td>\n",
       "      <td>PC 17599</td>\n",
       "      <td>2</td>\n",
       "      <td>2</td>\n",
       "      <td>1.0</td>\n",
       "      <td>...</td>\n",
       "      <td>0.0</td>\n",
       "      <td>0.0</td>\n",
       "      <td>1.0</td>\n",
       "      <td>0.0</td>\n",
       "      <td>0.0</td>\n",
       "      <td>0.0</td>\n",
       "      <td>0.0</td>\n",
       "      <td>0.0</td>\n",
       "      <td>1.0</td>\n",
       "      <td>0.0</td>\n",
       "    </tr>\n",
       "    <tr>\n",
       "      <th>2</th>\n",
       "      <td>NaN</td>\n",
       "      <td>Heikkinen, Miss. Laina</td>\n",
       "      <td>0</td>\n",
       "      <td>3</td>\n",
       "      <td>0</td>\n",
       "      <td>1.0</td>\n",
       "      <td>STON/O2. 3101282</td>\n",
       "      <td>1</td>\n",
       "      <td>1</td>\n",
       "      <td>0.0</td>\n",
       "      <td>...</td>\n",
       "      <td>1.0</td>\n",
       "      <td>0.0</td>\n",
       "      <td>0.0</td>\n",
       "      <td>0.0</td>\n",
       "      <td>1.0</td>\n",
       "      <td>0.0</td>\n",
       "      <td>1.0</td>\n",
       "      <td>0.0</td>\n",
       "      <td>0.0</td>\n",
       "      <td>0.0</td>\n",
       "    </tr>\n",
       "    <tr>\n",
       "      <th>3</th>\n",
       "      <td>C123</td>\n",
       "      <td>Futrelle, Mrs. Jacques Heath (Lily May Peel)</td>\n",
       "      <td>0</td>\n",
       "      <td>4</td>\n",
       "      <td>1</td>\n",
       "      <td>1.0</td>\n",
       "      <td>113803</td>\n",
       "      <td>2</td>\n",
       "      <td>2</td>\n",
       "      <td>1.0</td>\n",
       "      <td>...</td>\n",
       "      <td>0.0</td>\n",
       "      <td>0.0</td>\n",
       "      <td>0.0</td>\n",
       "      <td>0.0</td>\n",
       "      <td>1.0</td>\n",
       "      <td>0.0</td>\n",
       "      <td>0.0</td>\n",
       "      <td>0.0</td>\n",
       "      <td>1.0</td>\n",
       "      <td>0.0</td>\n",
       "    </tr>\n",
       "    <tr>\n",
       "      <th>4</th>\n",
       "      <td>NaN</td>\n",
       "      <td>Allen, Mr. William Henry</td>\n",
       "      <td>0</td>\n",
       "      <td>5</td>\n",
       "      <td>0</td>\n",
       "      <td>0.0</td>\n",
       "      <td>373450</td>\n",
       "      <td>1</td>\n",
       "      <td>1</td>\n",
       "      <td>0.0</td>\n",
       "      <td>...</td>\n",
       "      <td>1.0</td>\n",
       "      <td>0.0</td>\n",
       "      <td>0.0</td>\n",
       "      <td>0.0</td>\n",
       "      <td>1.0</td>\n",
       "      <td>0.0</td>\n",
       "      <td>0.0</td>\n",
       "      <td>1.0</td>\n",
       "      <td>0.0</td>\n",
       "      <td>0.0</td>\n",
       "    </tr>\n",
       "  </tbody>\n",
       "</table>\n",
       "<p>5 rows × 45 columns</p>\n",
       "</div>"
      ],
      "text/plain": [
       "  Cabin                                               Name  Parch  \\\n",
       "0   NaN                            Braund, Mr. Owen Harris      0   \n",
       "1   C85  Cumings, Mrs. John Bradley (Florence Briggs Th...      0   \n",
       "2   NaN                             Heikkinen, Miss. Laina      0   \n",
       "3  C123       Futrelle, Mrs. Jacques Heath (Lily May Peel)      0   \n",
       "4   NaN                           Allen, Mr. William Henry      0   \n",
       "\n",
       "   PassengerId  SibSp  Survived            Ticket  Family_Size  Ticket_Freq  \\\n",
       "0            1      1       0.0         A/5 21171            2            1   \n",
       "1            2      1       1.0          PC 17599            2            2   \n",
       "2            3      0       1.0  STON/O2. 3101282            1            1   \n",
       "3            4      1       1.0            113803            2            2   \n",
       "4            5      0       0.0            373450            1            1   \n",
       "\n",
       "   Pclass_1  ...  Deck_7  Deck_8  Embarked_0  Embarked_1  Embarked_2  Title_0  \\\n",
       "0       0.0  ...     1.0     0.0         0.0         0.0         1.0      0.0   \n",
       "1       1.0  ...     0.0     0.0         1.0         0.0         0.0      0.0   \n",
       "2       0.0  ...     1.0     0.0         0.0         0.0         1.0      0.0   \n",
       "3       1.0  ...     0.0     0.0         0.0         0.0         1.0      0.0   \n",
       "4       0.0  ...     1.0     0.0         0.0         0.0         1.0      0.0   \n",
       "\n",
       "   Title_1  Title_2  Title_3  Title_4  \n",
       "0      0.0      1.0      0.0      0.0  \n",
       "1      0.0      0.0      1.0      0.0  \n",
       "2      1.0      0.0      0.0      0.0  \n",
       "3      0.0      0.0      1.0      0.0  \n",
       "4      0.0      1.0      0.0      0.0  \n",
       "\n",
       "[5 rows x 45 columns]"
      ]
     },
     "execution_count": 10,
     "metadata": {},
     "output_type": "execute_result"
    }
   ],
   "source": [
    "from sklearn.preprocessing import OneHotEncoder\n",
    "one_hot_encoder = OneHotEncoder(handle_unknown='ignore')\n",
    "\n",
    "categorical = [\"Pclass\", \"Sex\", \"Family_Size_Bin\", \"Age\", \"Fare\", \"Deck\", \"Embarked\", \"Title\"]\n",
    "\n",
    "for feature in categorical:\n",
    "\n",
    "    # Create encoder dataframe\n",
    "    encoder_df = pd.DataFrame(one_hot_encoder.fit_transform(all_data[[feature]]).toarray())\n",
    "    column_names = one_hot_encoder.get_feature_names([feature])\n",
    "    encoder_df.columns = column_names\n",
    "    # Append to all_data\n",
    "    all_data = all_data.join(encoder_df)\n",
    "    \n",
    "# Drop columns that were one-hot encoded\n",
    "all_data = all_data.drop(columns=categorical)\n",
    "all_data.head()"
   ]
  },
  {
   "cell_type": "code",
   "execution_count": 11,
   "id": "4fb7d7d6",
   "metadata": {
    "execution": {
     "iopub.execute_input": "2022-01-14T17:40:04.109959Z",
     "iopub.status.busy": "2022-01-14T17:40:04.109008Z",
     "iopub.status.idle": "2022-01-14T17:40:04.111026Z",
     "shell.execute_reply": "2022-01-14T17:40:04.111430Z",
     "shell.execute_reply.started": "2022-01-14T17:39:39.495818Z"
    },
    "papermill": {
     "duration": 0.024261,
     "end_time": "2022-01-14T17:40:04.111607",
     "exception": false,
     "start_time": "2022-01-14T17:40:04.087346",
     "status": "completed"
    },
    "tags": []
   },
   "outputs": [],
   "source": [
    "# Drop columns that will not be used as features\n",
    "drop_columns = ['Cabin', 'Name', 'Parch', 'PassengerId', 'SibSp', 'Ticket']\n",
    "all_data = all_data.drop(columns=drop_columns)\n",
    "\n",
    "train_data = all_data.loc[:890]\n",
    "y = train_data[\"Survived\"]\n",
    "X = train_data.drop(columns=['Survived'])\n",
    "\n",
    "X_test = all_data.loc[891:].drop(columns=['Survived'])"
   ]
  },
  {
   "cell_type": "code",
   "execution_count": 12,
   "id": "1254d4f2",
   "metadata": {
    "execution": {
     "iopub.execute_input": "2022-01-14T17:40:04.146919Z",
     "iopub.status.busy": "2022-01-14T17:40:04.145924Z",
     "iopub.status.idle": "2022-01-14T17:40:04.323169Z",
     "shell.execute_reply": "2022-01-14T17:40:04.322286Z",
     "shell.execute_reply.started": "2022-01-14T17:39:39.506901Z"
    },
    "papermill": {
     "duration": 0.198269,
     "end_time": "2022-01-14T17:40:04.323408",
     "exception": false,
     "start_time": "2022-01-14T17:40:04.125139",
     "status": "completed"
    },
    "tags": []
   },
   "outputs": [
    {
     "name": "stdout",
     "output_type": "stream",
     "text": [
      "Your submission was successfully saved!\n"
     ]
    }
   ],
   "source": [
    "model = RandomForestClassifier(n_estimators=100, max_depth=5, random_state=1)\n",
    "model.fit(X, y)\n",
    "predictions = model.predict(X_test)\n",
    "\n",
    "output = pd.DataFrame({'PassengerId': test_data.PassengerId, 'Survived': predictions})\n",
    "# Convert 'Survived' to int\n",
    "output['Survived'] = output['Survived'].astype(int)\n",
    "output.to_csv('submission.csv', index=False)\n",
    "print(\"Your submission was successfully saved!\")"
   ]
  }
 ],
 "metadata": {
  "kernelspec": {
   "display_name": "Python 3",
   "language": "python",
   "name": "python3"
  },
  "language_info": {
   "codemirror_mode": {
    "name": "ipython",
    "version": 3
   },
   "file_extension": ".py",
   "mimetype": "text/x-python",
   "name": "python",
   "nbconvert_exporter": "python",
   "pygments_lexer": "ipython3",
   "version": "3.7.12"
  },
  "papermill": {
   "default_parameters": {},
   "duration": 12.175922,
   "end_time": "2022-01-14T17:40:05.048397",
   "environment_variables": {},
   "exception": null,
   "input_path": "__notebook__.ipynb",
   "output_path": "__notebook__.ipynb",
   "parameters": {},
   "start_time": "2022-01-14T17:39:52.872475",
   "version": "2.3.3"
  }
 },
 "nbformat": 4,
 "nbformat_minor": 5
}
