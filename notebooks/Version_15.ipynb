{
 "cells": [
  {
   "cell_type": "code",
   "execution_count": 1,
   "id": "ee86d113",
   "metadata": {
    "_cell_guid": "b1076dfc-b9ad-4769-8c92-a6c4dae69d19",
    "_uuid": "8f2839f25d086af736a60e9eeb907d3b93b6e0e5",
    "execution": {
     "iopub.execute_input": "2022-01-14T16:24:12.092990Z",
     "iopub.status.busy": "2022-01-14T16:24:12.092347Z",
     "iopub.status.idle": "2022-01-14T16:24:13.339033Z",
     "shell.execute_reply": "2022-01-14T16:24:13.338288Z",
     "shell.execute_reply.started": "2022-01-14T15:47:17.796447Z"
    },
    "papermill": {
     "duration": 1.269409,
     "end_time": "2022-01-14T16:24:13.339218",
     "exception": false,
     "start_time": "2022-01-14T16:24:12.069809",
     "status": "completed"
    },
    "tags": []
   },
   "outputs": [],
   "source": [
    "import numpy as np\n",
    "import pandas as pd\n",
    "from sklearn.ensemble import RandomForestClassifier"
   ]
  },
  {
   "cell_type": "code",
   "execution_count": 2,
   "id": "684c4b1f",
   "metadata": {
    "execution": {
     "iopub.execute_input": "2022-01-14T16:24:13.374870Z",
     "iopub.status.busy": "2022-01-14T16:24:13.374116Z",
     "iopub.status.idle": "2022-01-14T16:24:13.419323Z",
     "shell.execute_reply": "2022-01-14T16:24:13.418753Z",
     "shell.execute_reply.started": "2022-01-14T15:47:22.144929Z"
    },
    "papermill": {
     "duration": 0.066208,
     "end_time": "2022-01-14T16:24:13.419473",
     "exception": false,
     "start_time": "2022-01-14T16:24:13.353265",
     "status": "completed"
    },
    "tags": []
   },
   "outputs": [],
   "source": [
    "# Define functions for combining and dividing datasets\n",
    "\n",
    "def concatenate_df(df1, df2):\n",
    "    \"\"\"Concatenate two pandas dataframes\"\"\"\n",
    "    \n",
    "    return pd.concat([df1, df2], sort=True).reset_index(drop=True)\n",
    "\n",
    "\n",
    "def divide_titanic_df(all_data):\n",
    "    \"\"\"Divide concatenated titanic data back up into training and test sets\"\"\"\n",
    "    \n",
    "    train_data = all_data.loc[:890]\n",
    "    test_data = all_data.loc[891:].drop(['Survived'], axis=1)\n",
    "    return train_data, test_data\n",
    "\n",
    "# Load data\n",
    "\n",
    "train_data = pd.read_csv(\"/kaggle/input/titanic/train.csv\")\n",
    "test_data = pd.read_csv(\"/kaggle/input/titanic/test.csv\")\n",
    "\n",
    "# Combine data\n",
    "\n",
    "all_data = concatenate_df(train_data, test_data)"
   ]
  },
  {
   "cell_type": "markdown",
   "id": "db35c861",
   "metadata": {
    "papermill": {
     "duration": 0.013412,
     "end_time": "2022-01-14T16:24:13.447077",
     "exception": false,
     "start_time": "2022-01-14T16:24:13.433665",
     "status": "completed"
    },
    "tags": []
   },
   "source": [
    "# Data cleaning\n",
    "\n",
    "See Version 12 for details of the following."
   ]
  },
  {
   "cell_type": "code",
   "execution_count": 3,
   "id": "3cc8b77e",
   "metadata": {
    "execution": {
     "iopub.execute_input": "2022-01-14T16:24:13.478571Z",
     "iopub.status.busy": "2022-01-14T16:24:13.477588Z",
     "iopub.status.idle": "2022-01-14T16:24:13.507213Z",
     "shell.execute_reply": "2022-01-14T16:24:13.506632Z",
     "shell.execute_reply.started": "2022-01-13T18:14:43.613276Z"
    },
    "papermill": {
     "duration": 0.046514,
     "end_time": "2022-01-14T16:24:13.507371",
     "exception": false,
     "start_time": "2022-01-14T16:24:13.460857",
     "status": "completed"
    },
    "tags": []
   },
   "outputs": [],
   "source": [
    "# Fill in missing ages\n",
    "\n",
    "# SibSp seems to be as good a predictor of age as any (>= 2 indicates travelling with siblings, which likely means a child)\n",
    "all_data['Age'] = all_data.groupby(['SibSp'])['Age'].apply(lambda x: x.fillna(x.median()))\n",
    "# Use Pclass and Sex as a backup\n",
    "all_data['Age'] = all_data.groupby(['Pclass', 'Sex'])['Age'].apply(lambda x: x.fillna(x.median()))\n",
    "\n",
    "# Fill in missing fare\n",
    "\n",
    "mr_thomas_fare = all_data.loc[(all_data['Pclass'] == 3) & (all_data['SibSp'] == 0) & (all_data['Embarked'] == 'S')]['Fare'].median()\n",
    "all_data.loc[all_data['Fare'].isnull(), 'Fare'] = mr_thomas_fare\n",
    "\n",
    "# Fill in missing embarkeds\n",
    "\n",
    "all_data.loc[61, 'Embarked'] = 'S'\n",
    "all_data.loc[829, 'Embarked'] = 'S'\n",
    "\n",
    "# Keep first letter of cabin (indicating deck) only and insert 'M' for missing\n",
    "\n",
    "all_data['Deck'] = all_data['Cabin'].apply(lambda c: c[0] if pd.notnull(c) else 'M')"
   ]
  },
  {
   "cell_type": "markdown",
   "id": "6e7b3ffe",
   "metadata": {
    "papermill": {
     "duration": 0.012537,
     "end_time": "2022-01-14T16:24:13.533035",
     "exception": false,
     "start_time": "2022-01-14T16:24:13.520498",
     "status": "completed"
    },
    "tags": []
   },
   "source": [
    "# Feature engineering"
   ]
  },
  {
   "cell_type": "markdown",
   "id": "81cef7f3",
   "metadata": {
    "papermill": {
     "duration": 0.012515,
     "end_time": "2022-01-14T16:24:13.558424",
     "exception": false,
     "start_time": "2022-01-14T16:24:13.545909",
     "status": "completed"
    },
    "tags": []
   },
   "source": [
    "## Binning\n",
    "\n",
    "See Version 12 for details of the following."
   ]
  },
  {
   "cell_type": "code",
   "execution_count": 4,
   "id": "691d4c66",
   "metadata": {
    "execution": {
     "iopub.execute_input": "2022-01-14T16:24:13.599621Z",
     "iopub.status.busy": "2022-01-14T16:24:13.589138Z",
     "iopub.status.idle": "2022-01-14T16:24:13.605664Z",
     "shell.execute_reply": "2022-01-14T16:24:13.606201Z",
     "shell.execute_reply.started": "2022-01-13T18:14:44.363213Z"
    },
    "papermill": {
     "duration": 0.034992,
     "end_time": "2022-01-14T16:24:13.606376",
     "exception": false,
     "start_time": "2022-01-14T16:24:13.571384",
     "status": "completed"
    },
    "tags": []
   },
   "outputs": [],
   "source": [
    "# Outliers can disrupt learning, so split up the distribution for each\n",
    "\n",
    "# For Fare, use qcut to assign approximately equal number of cases to each category\n",
    "all_data['Fare'] = pd.qcut(all_data['Fare'], 5)\n",
    "# For Age, use cut to split according to values\n",
    "all_data['Age'] = pd.cut(all_data['Age'].astype(int), 5)"
   ]
  },
  {
   "cell_type": "markdown",
   "id": "d3923480",
   "metadata": {
    "papermill": {
     "duration": 0.01256,
     "end_time": "2022-01-14T16:24:13.632042",
     "exception": false,
     "start_time": "2022-01-14T16:24:13.619482",
     "status": "completed"
    },
    "tags": []
   },
   "source": [
    "## New feature creation\n",
    "\n",
    "See Version 12 for details of the following."
   ]
  },
  {
   "cell_type": "code",
   "execution_count": 5,
   "id": "87abcb3b",
   "metadata": {
    "execution": {
     "iopub.execute_input": "2022-01-14T16:24:13.661664Z",
     "iopub.status.busy": "2022-01-14T16:24:13.661012Z",
     "iopub.status.idle": "2022-01-14T16:24:13.671685Z",
     "shell.execute_reply": "2022-01-14T16:24:13.672287Z",
     "shell.execute_reply.started": "2022-01-13T18:14:44.403113Z"
    },
    "papermill": {
     "duration": 0.027011,
     "end_time": "2022-01-14T16:24:13.672463",
     "exception": false,
     "start_time": "2022-01-14T16:24:13.645452",
     "status": "completed"
    },
    "tags": []
   },
   "outputs": [],
   "source": [
    "# Combine sibSp and Parch to create new feature Family_Size\n",
    "all_data['Family_Size'] = all_data['SibSp'] + all_data['Parch'] + 1\n",
    "# Bin family size to group to group family size of four of higher into a single value\n",
    "all_data['Family_Size_Bin'] = all_data['Family_Size'].map(lambda fs: fs if fs <= 3 else (4 if fs > 3 else 0))\n",
    "\n",
    "# Create Ticket_Frequency feature\n",
    "all_data['Ticket_Freq'] = all_data.groupby('Ticket')['Ticket'].transform('count')"
   ]
  },
  {
   "cell_type": "markdown",
   "id": "ee338ca4",
   "metadata": {
    "papermill": {
     "duration": 0.012991,
     "end_time": "2022-01-14T16:24:13.698424",
     "exception": false,
     "start_time": "2022-01-14T16:24:13.685433",
     "status": "completed"
    },
    "tags": []
   },
   "source": [
    "Create new feature for Title (Mr., Mrs., etc.)"
   ]
  },
  {
   "cell_type": "code",
   "execution_count": 6,
   "id": "a9b34ce5",
   "metadata": {
    "execution": {
     "iopub.execute_input": "2022-01-14T16:24:13.727859Z",
     "iopub.status.busy": "2022-01-14T16:24:13.727132Z",
     "iopub.status.idle": "2022-01-14T16:24:13.733615Z",
     "shell.execute_reply": "2022-01-14T16:24:13.734130Z",
     "shell.execute_reply.started": "2022-01-14T16:00:07.026491Z"
    },
    "papermill": {
     "duration": 0.022933,
     "end_time": "2022-01-14T16:24:13.734300",
     "exception": false,
     "start_time": "2022-01-14T16:24:13.711367",
     "status": "completed"
    },
    "tags": []
   },
   "outputs": [
    {
     "name": "stdout",
     "output_type": "stream",
     "text": [
      "0                               Braund, Mr. Owen Harris\n",
      "1     Cumings, Mrs. John Bradley (Florence Briggs Th...\n",
      "2                                Heikkinen, Miss. Laina\n",
      "3          Futrelle, Mrs. Jacques Heath (Lily May Peel)\n",
      "4                              Allen, Mr. William Henry\n",
      "5                                      Moran, Mr. James\n",
      "6                               McCarthy, Mr. Timothy J\n",
      "7                        Palsson, Master. Gosta Leonard\n",
      "8     Johnson, Mrs. Oscar W (Elisabeth Vilhelmina Berg)\n",
      "9                   Nasser, Mrs. Nicholas (Adele Achem)\n",
      "10                      Sandstrom, Miss. Marguerite Rut\n",
      "11                             Bonnell, Miss. Elizabeth\n",
      "12                       Saundercock, Mr. William Henry\n",
      "13                          Andersson, Mr. Anders Johan\n",
      "14                 Vestrom, Miss. Hulda Amanda Adolfina\n",
      "15                     Hewlett, Mrs. (Mary D Kingcome) \n",
      "16                                 Rice, Master. Eugene\n",
      "17                         Williams, Mr. Charles Eugene\n",
      "18    Vander Planke, Mrs. Julius (Emelia Maria Vande...\n",
      "19                              Masselmani, Mrs. Fatima\n",
      "Name: Name, dtype: object\n"
     ]
    }
   ],
   "source": [
    "print(all_data['Name'][:20])"
   ]
  },
  {
   "cell_type": "code",
   "execution_count": 7,
   "id": "1181c0a6",
   "metadata": {
    "execution": {
     "iopub.execute_input": "2022-01-14T16:24:13.767393Z",
     "iopub.status.busy": "2022-01-14T16:24:13.766733Z",
     "iopub.status.idle": "2022-01-14T16:24:13.768698Z",
     "shell.execute_reply": "2022-01-14T16:24:13.769282Z",
     "shell.execute_reply.started": "2022-01-14T16:14:06.099503Z"
    },
    "papermill": {
     "duration": 0.021467,
     "end_time": "2022-01-14T16:24:13.769443",
     "exception": false,
     "start_time": "2022-01-14T16:24:13.747976",
     "status": "completed"
    },
    "tags": []
   },
   "outputs": [],
   "source": [
    "def title(name):\n",
    "    \"\"\"Get the title from a passenger's name\n",
    "    \n",
    "    Return False if no title is found\"\"\"\n",
    "    \n",
    "    parts = name.split()\n",
    "    ends_with_period = [part for part in parts if part.endswith('.')]\n",
    "    if ends_with_period:\n",
    "        return ends_with_period[0]\n",
    "    else:\n",
    "        return None"
   ]
  },
  {
   "cell_type": "code",
   "execution_count": 8,
   "id": "4edc3f5b",
   "metadata": {
    "execution": {
     "iopub.execute_input": "2022-01-14T16:24:13.806547Z",
     "iopub.status.busy": "2022-01-14T16:24:13.798484Z",
     "iopub.status.idle": "2022-01-14T16:24:13.809768Z",
     "shell.execute_reply": "2022-01-14T16:24:13.809129Z",
     "shell.execute_reply.started": "2022-01-14T16:14:08.754154Z"
    },
    "papermill": {
     "duration": 0.027138,
     "end_time": "2022-01-14T16:24:13.809917",
     "exception": false,
     "start_time": "2022-01-14T16:24:13.782779",
     "status": "completed"
    },
    "tags": []
   },
   "outputs": [
    {
     "name": "stdout",
     "output_type": "stream",
     "text": [
      "Mr.          757\n",
      "Miss.        260\n",
      "Mrs.         197\n",
      "Master.       61\n",
      "Rev.           8\n",
      "Dr.            8\n",
      "Col.           4\n",
      "Mlle.          2\n",
      "Major.         2\n",
      "Ms.            2\n",
      "Lady.          1\n",
      "Sir.           1\n",
      "Mme.           1\n",
      "Don.           1\n",
      "Capt.          1\n",
      "Countess.      1\n",
      "Jonkheer.      1\n",
      "Dona.          1\n",
      "Name: Title, dtype: int64\n"
     ]
    }
   ],
   "source": [
    "all_data['Title'] = [title(x) for x in all_data['Name']]\n",
    "print(all_data['Title'].value_counts())"
   ]
  },
  {
   "cell_type": "markdown",
   "id": "64ff03b2",
   "metadata": {
    "papermill": {
     "duration": 0.013154,
     "end_time": "2022-01-14T16:24:13.836778",
     "exception": false,
     "start_time": "2022-01-14T16:24:13.823624",
     "status": "completed"
    },
    "tags": []
   },
   "source": [
    "We appear to have successfully obtained a title for every passenger.\n",
    "\n",
    "According to Wikipedia: *Jonkheer (female equivalent: jonkvrouw; French: Écuyer; English: Squire) is an honorific in the Low Countries denoting the lowest rank within the nobility.*\n",
    "\n",
    "Let's group the less common ones into a single category 'misc'."
   ]
  },
  {
   "cell_type": "code",
   "execution_count": 9,
   "id": "b481e68a",
   "metadata": {
    "execution": {
     "iopub.execute_input": "2022-01-14T16:24:13.867150Z",
     "iopub.status.busy": "2022-01-14T16:24:13.866532Z",
     "iopub.status.idle": "2022-01-14T16:24:13.896779Z",
     "shell.execute_reply": "2022-01-14T16:24:13.897323Z",
     "shell.execute_reply.started": "2022-01-14T16:20:55.314714Z"
    },
    "papermill": {
     "duration": 0.047153,
     "end_time": "2022-01-14T16:24:13.897492",
     "exception": false,
     "start_time": "2022-01-14T16:24:13.850339",
     "status": "completed"
    },
    "tags": []
   },
   "outputs": [
    {
     "name": "stdout",
     "output_type": "stream",
     "text": [
      "Mr.        757\n",
      "Miss.      260\n",
      "Mrs.       197\n",
      "Master.     61\n",
      "misc        34\n",
      "Name: Title, dtype: int64\n"
     ]
    }
   ],
   "source": [
    "rare = (all_data['Title'].value_counts() < 10)\n",
    "all_data['Title'] = all_data['Title'].apply(lambda x: 'misc' if rare.loc[x] else x)\n",
    "print(all_data['Title'].value_counts())"
   ]
  },
  {
   "cell_type": "code",
   "execution_count": 10,
   "id": "0bea23a2",
   "metadata": {
    "execution": {
     "iopub.execute_input": "2022-01-14T16:24:13.930036Z",
     "iopub.status.busy": "2022-01-14T16:24:13.929368Z",
     "iopub.status.idle": "2022-01-14T16:24:13.971935Z",
     "shell.execute_reply": "2022-01-14T16:24:13.972440Z",
     "shell.execute_reply.started": "2022-01-14T16:23:33.599425Z"
    },
    "papermill": {
     "duration": 0.060196,
     "end_time": "2022-01-14T16:24:13.972622",
     "exception": false,
     "start_time": "2022-01-14T16:24:13.912426",
     "status": "completed"
    },
    "tags": []
   },
   "outputs": [
    {
     "data": {
      "text/html": [
       "<div>\n",
       "<style scoped>\n",
       "    .dataframe tbody tr th:only-of-type {\n",
       "        vertical-align: middle;\n",
       "    }\n",
       "\n",
       "    .dataframe tbody tr th {\n",
       "        vertical-align: top;\n",
       "    }\n",
       "\n",
       "    .dataframe thead th {\n",
       "        text-align: right;\n",
       "    }\n",
       "</style>\n",
       "<table border=\"1\" class=\"dataframe\">\n",
       "  <thead>\n",
       "    <tr style=\"text-align: right;\">\n",
       "      <th></th>\n",
       "      <th>Pclass</th>\n",
       "      <th>Family_Size_Bin</th>\n",
       "      <th>Ticket_Freq</th>\n",
       "      <th>Sex_female</th>\n",
       "      <th>Sex_male</th>\n",
       "      <th>Age_(-0.08, 16.0]</th>\n",
       "      <th>Age_(16.0, 32.0]</th>\n",
       "      <th>Age_(32.0, 48.0]</th>\n",
       "      <th>Age_(48.0, 64.0]</th>\n",
       "      <th>Age_(64.0, 80.0]</th>\n",
       "      <th>...</th>\n",
       "      <th>Deck_M</th>\n",
       "      <th>Deck_T</th>\n",
       "      <th>Embarked_C</th>\n",
       "      <th>Embarked_Q</th>\n",
       "      <th>Embarked_S</th>\n",
       "      <th>Title_Master.</th>\n",
       "      <th>Title_Miss.</th>\n",
       "      <th>Title_Mr.</th>\n",
       "      <th>Title_Mrs.</th>\n",
       "      <th>Title_misc</th>\n",
       "    </tr>\n",
       "  </thead>\n",
       "  <tbody>\n",
       "    <tr>\n",
       "      <th>891</th>\n",
       "      <td>3</td>\n",
       "      <td>1</td>\n",
       "      <td>1</td>\n",
       "      <td>0</td>\n",
       "      <td>1</td>\n",
       "      <td>0</td>\n",
       "      <td>0</td>\n",
       "      <td>1</td>\n",
       "      <td>0</td>\n",
       "      <td>0</td>\n",
       "      <td>...</td>\n",
       "      <td>1</td>\n",
       "      <td>0</td>\n",
       "      <td>0</td>\n",
       "      <td>1</td>\n",
       "      <td>0</td>\n",
       "      <td>0</td>\n",
       "      <td>0</td>\n",
       "      <td>1</td>\n",
       "      <td>0</td>\n",
       "      <td>0</td>\n",
       "    </tr>\n",
       "    <tr>\n",
       "      <th>892</th>\n",
       "      <td>3</td>\n",
       "      <td>2</td>\n",
       "      <td>1</td>\n",
       "      <td>1</td>\n",
       "      <td>0</td>\n",
       "      <td>0</td>\n",
       "      <td>0</td>\n",
       "      <td>1</td>\n",
       "      <td>0</td>\n",
       "      <td>0</td>\n",
       "      <td>...</td>\n",
       "      <td>1</td>\n",
       "      <td>0</td>\n",
       "      <td>0</td>\n",
       "      <td>0</td>\n",
       "      <td>1</td>\n",
       "      <td>0</td>\n",
       "      <td>0</td>\n",
       "      <td>0</td>\n",
       "      <td>1</td>\n",
       "      <td>0</td>\n",
       "    </tr>\n",
       "    <tr>\n",
       "      <th>893</th>\n",
       "      <td>2</td>\n",
       "      <td>1</td>\n",
       "      <td>1</td>\n",
       "      <td>0</td>\n",
       "      <td>1</td>\n",
       "      <td>0</td>\n",
       "      <td>0</td>\n",
       "      <td>0</td>\n",
       "      <td>1</td>\n",
       "      <td>0</td>\n",
       "      <td>...</td>\n",
       "      <td>1</td>\n",
       "      <td>0</td>\n",
       "      <td>0</td>\n",
       "      <td>1</td>\n",
       "      <td>0</td>\n",
       "      <td>0</td>\n",
       "      <td>0</td>\n",
       "      <td>1</td>\n",
       "      <td>0</td>\n",
       "      <td>0</td>\n",
       "    </tr>\n",
       "    <tr>\n",
       "      <th>894</th>\n",
       "      <td>3</td>\n",
       "      <td>1</td>\n",
       "      <td>1</td>\n",
       "      <td>0</td>\n",
       "      <td>1</td>\n",
       "      <td>0</td>\n",
       "      <td>1</td>\n",
       "      <td>0</td>\n",
       "      <td>0</td>\n",
       "      <td>0</td>\n",
       "      <td>...</td>\n",
       "      <td>1</td>\n",
       "      <td>0</td>\n",
       "      <td>0</td>\n",
       "      <td>0</td>\n",
       "      <td>1</td>\n",
       "      <td>0</td>\n",
       "      <td>0</td>\n",
       "      <td>1</td>\n",
       "      <td>0</td>\n",
       "      <td>0</td>\n",
       "    </tr>\n",
       "    <tr>\n",
       "      <th>895</th>\n",
       "      <td>3</td>\n",
       "      <td>3</td>\n",
       "      <td>2</td>\n",
       "      <td>1</td>\n",
       "      <td>0</td>\n",
       "      <td>0</td>\n",
       "      <td>1</td>\n",
       "      <td>0</td>\n",
       "      <td>0</td>\n",
       "      <td>0</td>\n",
       "      <td>...</td>\n",
       "      <td>1</td>\n",
       "      <td>0</td>\n",
       "      <td>0</td>\n",
       "      <td>0</td>\n",
       "      <td>1</td>\n",
       "      <td>0</td>\n",
       "      <td>0</td>\n",
       "      <td>0</td>\n",
       "      <td>1</td>\n",
       "      <td>0</td>\n",
       "    </tr>\n",
       "    <tr>\n",
       "      <th>...</th>\n",
       "      <td>...</td>\n",
       "      <td>...</td>\n",
       "      <td>...</td>\n",
       "      <td>...</td>\n",
       "      <td>...</td>\n",
       "      <td>...</td>\n",
       "      <td>...</td>\n",
       "      <td>...</td>\n",
       "      <td>...</td>\n",
       "      <td>...</td>\n",
       "      <td>...</td>\n",
       "      <td>...</td>\n",
       "      <td>...</td>\n",
       "      <td>...</td>\n",
       "      <td>...</td>\n",
       "      <td>...</td>\n",
       "      <td>...</td>\n",
       "      <td>...</td>\n",
       "      <td>...</td>\n",
       "      <td>...</td>\n",
       "      <td>...</td>\n",
       "    </tr>\n",
       "    <tr>\n",
       "      <th>1304</th>\n",
       "      <td>3</td>\n",
       "      <td>1</td>\n",
       "      <td>1</td>\n",
       "      <td>0</td>\n",
       "      <td>1</td>\n",
       "      <td>0</td>\n",
       "      <td>1</td>\n",
       "      <td>0</td>\n",
       "      <td>0</td>\n",
       "      <td>0</td>\n",
       "      <td>...</td>\n",
       "      <td>1</td>\n",
       "      <td>0</td>\n",
       "      <td>0</td>\n",
       "      <td>0</td>\n",
       "      <td>1</td>\n",
       "      <td>0</td>\n",
       "      <td>0</td>\n",
       "      <td>1</td>\n",
       "      <td>0</td>\n",
       "      <td>0</td>\n",
       "    </tr>\n",
       "    <tr>\n",
       "      <th>1305</th>\n",
       "      <td>1</td>\n",
       "      <td>1</td>\n",
       "      <td>3</td>\n",
       "      <td>1</td>\n",
       "      <td>0</td>\n",
       "      <td>0</td>\n",
       "      <td>0</td>\n",
       "      <td>1</td>\n",
       "      <td>0</td>\n",
       "      <td>0</td>\n",
       "      <td>...</td>\n",
       "      <td>0</td>\n",
       "      <td>0</td>\n",
       "      <td>1</td>\n",
       "      <td>0</td>\n",
       "      <td>0</td>\n",
       "      <td>0</td>\n",
       "      <td>0</td>\n",
       "      <td>0</td>\n",
       "      <td>0</td>\n",
       "      <td>1</td>\n",
       "    </tr>\n",
       "    <tr>\n",
       "      <th>1306</th>\n",
       "      <td>3</td>\n",
       "      <td>1</td>\n",
       "      <td>1</td>\n",
       "      <td>0</td>\n",
       "      <td>1</td>\n",
       "      <td>0</td>\n",
       "      <td>0</td>\n",
       "      <td>1</td>\n",
       "      <td>0</td>\n",
       "      <td>0</td>\n",
       "      <td>...</td>\n",
       "      <td>1</td>\n",
       "      <td>0</td>\n",
       "      <td>0</td>\n",
       "      <td>0</td>\n",
       "      <td>1</td>\n",
       "      <td>0</td>\n",
       "      <td>0</td>\n",
       "      <td>1</td>\n",
       "      <td>0</td>\n",
       "      <td>0</td>\n",
       "    </tr>\n",
       "    <tr>\n",
       "      <th>1307</th>\n",
       "      <td>3</td>\n",
       "      <td>1</td>\n",
       "      <td>1</td>\n",
       "      <td>0</td>\n",
       "      <td>1</td>\n",
       "      <td>0</td>\n",
       "      <td>1</td>\n",
       "      <td>0</td>\n",
       "      <td>0</td>\n",
       "      <td>0</td>\n",
       "      <td>...</td>\n",
       "      <td>1</td>\n",
       "      <td>0</td>\n",
       "      <td>0</td>\n",
       "      <td>0</td>\n",
       "      <td>1</td>\n",
       "      <td>0</td>\n",
       "      <td>0</td>\n",
       "      <td>1</td>\n",
       "      <td>0</td>\n",
       "      <td>0</td>\n",
       "    </tr>\n",
       "    <tr>\n",
       "      <th>1308</th>\n",
       "      <td>3</td>\n",
       "      <td>3</td>\n",
       "      <td>3</td>\n",
       "      <td>0</td>\n",
       "      <td>1</td>\n",
       "      <td>0</td>\n",
       "      <td>1</td>\n",
       "      <td>0</td>\n",
       "      <td>0</td>\n",
       "      <td>0</td>\n",
       "      <td>...</td>\n",
       "      <td>1</td>\n",
       "      <td>0</td>\n",
       "      <td>1</td>\n",
       "      <td>0</td>\n",
       "      <td>0</td>\n",
       "      <td>1</td>\n",
       "      <td>0</td>\n",
       "      <td>0</td>\n",
       "      <td>0</td>\n",
       "      <td>0</td>\n",
       "    </tr>\n",
       "  </tbody>\n",
       "</table>\n",
       "<p>418 rows × 32 columns</p>\n",
       "</div>"
      ],
      "text/plain": [
       "      Pclass  Family_Size_Bin  Ticket_Freq  Sex_female  Sex_male  \\\n",
       "891        3                1            1           0         1   \n",
       "892        3                2            1           1         0   \n",
       "893        2                1            1           0         1   \n",
       "894        3                1            1           0         1   \n",
       "895        3                3            2           1         0   \n",
       "...      ...              ...          ...         ...       ...   \n",
       "1304       3                1            1           0         1   \n",
       "1305       1                1            3           1         0   \n",
       "1306       3                1            1           0         1   \n",
       "1307       3                1            1           0         1   \n",
       "1308       3                3            3           0         1   \n",
       "\n",
       "      Age_(-0.08, 16.0]  Age_(16.0, 32.0]  Age_(32.0, 48.0]  Age_(48.0, 64.0]  \\\n",
       "891                   0                 0                 1                 0   \n",
       "892                   0                 0                 1                 0   \n",
       "893                   0                 0                 0                 1   \n",
       "894                   0                 1                 0                 0   \n",
       "895                   0                 1                 0                 0   \n",
       "...                 ...               ...               ...               ...   \n",
       "1304                  0                 1                 0                 0   \n",
       "1305                  0                 0                 1                 0   \n",
       "1306                  0                 0                 1                 0   \n",
       "1307                  0                 1                 0                 0   \n",
       "1308                  0                 1                 0                 0   \n",
       "\n",
       "      Age_(64.0, 80.0]  ...  Deck_M  Deck_T  Embarked_C  Embarked_Q  \\\n",
       "891                  0  ...       1       0           0           1   \n",
       "892                  0  ...       1       0           0           0   \n",
       "893                  0  ...       1       0           0           1   \n",
       "894                  0  ...       1       0           0           0   \n",
       "895                  0  ...       1       0           0           0   \n",
       "...                ...  ...     ...     ...         ...         ...   \n",
       "1304                 0  ...       1       0           0           0   \n",
       "1305                 0  ...       0       0           1           0   \n",
       "1306                 0  ...       1       0           0           0   \n",
       "1307                 0  ...       1       0           0           0   \n",
       "1308                 0  ...       1       0           1           0   \n",
       "\n",
       "      Embarked_S  Title_Master.  Title_Miss.  Title_Mr.  Title_Mrs.  \\\n",
       "891            0              0            0          1           0   \n",
       "892            1              0            0          0           1   \n",
       "893            0              0            0          1           0   \n",
       "894            1              0            0          1           0   \n",
       "895            1              0            0          0           1   \n",
       "...          ...            ...          ...        ...         ...   \n",
       "1304           1              0            0          1           0   \n",
       "1305           0              0            0          0           0   \n",
       "1306           1              0            0          1           0   \n",
       "1307           1              0            0          1           0   \n",
       "1308           0              1            0          0           0   \n",
       "\n",
       "      Title_misc  \n",
       "891            0  \n",
       "892            0  \n",
       "893            0  \n",
       "894            0  \n",
       "895            0  \n",
       "...          ...  \n",
       "1304           0  \n",
       "1305           1  \n",
       "1306           0  \n",
       "1307           0  \n",
       "1308           0  \n",
       "\n",
       "[418 rows x 32 columns]"
      ]
     },
     "metadata": {},
     "output_type": "display_data"
    }
   ],
   "source": [
    "train_data, test_data = divide_titanic_df(all_data)\n",
    "y = train_data[\"Survived\"]\n",
    "\n",
    "features = [\"Pclass\", \"Sex\", \"Family_Size_Bin\", \"Age\", \"Fare\", \"Deck\", \"Ticket_Freq\", \"Embarked\", \"Title\"]\n",
    "\n",
    "all_dummies = pd.get_dummies(all_data[features])\n",
    "X = all_dummies.loc[:890]\n",
    "X_test = all_dummies.loc[891:]\n",
    "display(X_test)"
   ]
  },
  {
   "cell_type": "code",
   "execution_count": 11,
   "id": "a182560a",
   "metadata": {
    "execution": {
     "iopub.execute_input": "2022-01-14T16:24:14.005729Z",
     "iopub.status.busy": "2022-01-14T16:24:14.005090Z",
     "iopub.status.idle": "2022-01-14T16:24:14.235172Z",
     "shell.execute_reply": "2022-01-14T16:24:14.234649Z",
     "shell.execute_reply.started": "2022-01-13T18:20:11.692453Z"
    },
    "papermill": {
     "duration": 0.247612,
     "end_time": "2022-01-14T16:24:14.235314",
     "exception": false,
     "start_time": "2022-01-14T16:24:13.987702",
     "status": "completed"
    },
    "tags": []
   },
   "outputs": [
    {
     "name": "stdout",
     "output_type": "stream",
     "text": [
      "Your submission was successfully saved!\n"
     ]
    }
   ],
   "source": [
    "model = RandomForestClassifier(n_estimators=100, max_depth=5, random_state=1)\n",
    "model.fit(X, y)\n",
    "predictions = model.predict(X_test)\n",
    "\n",
    "output = pd.DataFrame({'PassengerId': test_data.PassengerId, 'Survived': predictions})\n",
    "# Convert 'Survived' to int\n",
    "output['Survived'] = output['Survived'].astype(int)\n",
    "output.to_csv('submission.csv', index=False)\n",
    "print(\"Your submission was successfully saved!\")"
   ]
  }
 ],
 "metadata": {
  "kernelspec": {
   "display_name": "Python 3",
   "language": "python",
   "name": "python3"
  },
  "language_info": {
   "codemirror_mode": {
    "name": "ipython",
    "version": 3
   },
   "file_extension": ".py",
   "mimetype": "text/x-python",
   "name": "python",
   "nbconvert_exporter": "python",
   "pygments_lexer": "ipython3",
   "version": "3.7.12"
  },
  "papermill": {
   "default_parameters": {},
   "duration": 12.911907,
   "end_time": "2022-01-14T16:24:14.961324",
   "environment_variables": {},
   "exception": null,
   "input_path": "__notebook__.ipynb",
   "output_path": "__notebook__.ipynb",
   "parameters": {},
   "start_time": "2022-01-14T16:24:02.049417",
   "version": "2.3.3"
  }
 },
 "nbformat": 4,
 "nbformat_minor": 5
}
