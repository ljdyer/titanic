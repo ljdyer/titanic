{
 "cells": [
  {
   "cell_type": "code",
   "execution_count": 1,
   "id": "6af948bc",
   "metadata": {
    "_cell_guid": "b1076dfc-b9ad-4769-8c92-a6c4dae69d19",
    "_uuid": "8f2839f25d086af736a60e9eeb907d3b93b6e0e5",
    "execution": {
     "iopub.execute_input": "2022-01-13T18:20:35.116240Z",
     "iopub.status.busy": "2022-01-13T18:20:35.115059Z",
     "iopub.status.idle": "2022-01-13T18:20:36.327105Z",
     "shell.execute_reply": "2022-01-13T18:20:36.326392Z",
     "shell.execute_reply.started": "2022-01-13T18:14:43.547655Z"
    },
    "papermill": {
     "duration": 1.239066,
     "end_time": "2022-01-13T18:20:36.327268",
     "exception": false,
     "start_time": "2022-01-13T18:20:35.088202",
     "status": "completed"
    },
    "tags": []
   },
   "outputs": [],
   "source": [
    "import numpy as np\n",
    "import pandas as pd\n",
    "from sklearn.ensemble import RandomForestClassifier"
   ]
  },
  {
   "cell_type": "code",
   "execution_count": 2,
   "id": "e31cd7d3",
   "metadata": {
    "execution": {
     "iopub.execute_input": "2022-01-13T18:20:36.378968Z",
     "iopub.status.busy": "2022-01-13T18:20:36.378286Z",
     "iopub.status.idle": "2022-01-13T18:20:36.380531Z",
     "shell.execute_reply": "2022-01-13T18:20:36.380069Z",
     "shell.execute_reply.started": "2022-01-13T18:14:43.556425Z"
    },
    "papermill": {
     "duration": 0.031634,
     "end_time": "2022-01-13T18:20:36.380677",
     "exception": false,
     "start_time": "2022-01-13T18:20:36.349043",
     "status": "completed"
    },
    "tags": []
   },
   "outputs": [],
   "source": [
    "# Define functions for combining and dividing datasets\n",
    "\n",
    "def concatenate_df(df1, df2):\n",
    "    \"\"\"Concatenate two pandas dataframes\"\"\"\n",
    "    \n",
    "    return pd.concat([df1, df2], sort=True).reset_index(drop=True)\n",
    "\n",
    "\n",
    "def divide_titanic_df(all_data):\n",
    "    \"\"\"Divide concatenated titanic data back up into training and test sets\"\"\"\n",
    "    \n",
    "    train_data = all_data.loc[:890]\n",
    "    test_data = all_data.loc[891:].drop(['Survived'], axis=1)\n",
    "    return train_data, test_data"
   ]
  },
  {
   "cell_type": "code",
   "execution_count": 3,
   "id": "23b4a342",
   "metadata": {
    "execution": {
     "iopub.execute_input": "2022-01-13T18:20:36.425889Z",
     "iopub.status.busy": "2022-01-13T18:20:36.425246Z",
     "iopub.status.idle": "2022-01-13T18:20:36.459022Z",
     "shell.execute_reply": "2022-01-13T18:20:36.459680Z",
     "shell.execute_reply.started": "2022-01-13T18:14:43.571563Z"
    },
    "papermill": {
     "duration": 0.058122,
     "end_time": "2022-01-13T18:20:36.459874",
     "exception": false,
     "start_time": "2022-01-13T18:20:36.401752",
     "status": "completed"
    },
    "tags": []
   },
   "outputs": [],
   "source": [
    "# Load data\n",
    "\n",
    "train_data = pd.read_csv(\"/kaggle/input/titanic/train.csv\")\n",
    "test_data = pd.read_csv(\"/kaggle/input/titanic/test.csv\")"
   ]
  },
  {
   "cell_type": "code",
   "execution_count": 4,
   "id": "900cb97c",
   "metadata": {
    "execution": {
     "iopub.execute_input": "2022-01-13T18:20:36.507903Z",
     "iopub.status.busy": "2022-01-13T18:20:36.507202Z",
     "iopub.status.idle": "2022-01-13T18:20:36.521202Z",
     "shell.execute_reply": "2022-01-13T18:20:36.521767Z",
     "shell.execute_reply.started": "2022-01-13T18:14:43.600692Z"
    },
    "papermill": {
     "duration": 0.041107,
     "end_time": "2022-01-13T18:20:36.521952",
     "exception": false,
     "start_time": "2022-01-13T18:20:36.480845",
     "status": "completed"
    },
    "tags": []
   },
   "outputs": [],
   "source": [
    "# Combine data\n",
    "\n",
    "all_data = concatenate_df(train_data, test_data)"
   ]
  },
  {
   "cell_type": "markdown",
   "id": "8764ea9c",
   "metadata": {
    "papermill": {
     "duration": 0.020866,
     "end_time": "2022-01-13T18:20:36.564046",
     "exception": false,
     "start_time": "2022-01-13T18:20:36.543180",
     "status": "completed"
    },
    "tags": []
   },
   "source": [
    "# Data cleaning"
   ]
  },
  {
   "cell_type": "code",
   "execution_count": 5,
   "id": "4f8a1579",
   "metadata": {
    "execution": {
     "iopub.execute_input": "2022-01-13T18:20:36.610562Z",
     "iopub.status.busy": "2022-01-13T18:20:36.609920Z",
     "iopub.status.idle": "2022-01-13T18:20:36.620984Z",
     "shell.execute_reply": "2022-01-13T18:20:36.621554Z",
     "shell.execute_reply.started": "2022-01-13T18:14:43.613276Z"
    },
    "papermill": {
     "duration": 0.036548,
     "end_time": "2022-01-13T18:20:36.621736",
     "exception": false,
     "start_time": "2022-01-13T18:20:36.585188",
     "status": "completed"
    },
    "tags": []
   },
   "outputs": [
    {
     "data": {
      "text/plain": [
       "Age             263\n",
       "Cabin          1014\n",
       "Embarked          2\n",
       "Fare              1\n",
       "Name              0\n",
       "Parch             0\n",
       "PassengerId       0\n",
       "Pclass            0\n",
       "Sex               0\n",
       "SibSp             0\n",
       "Survived        418\n",
       "Ticket            0\n",
       "dtype: int64"
      ]
     },
     "metadata": {},
     "output_type": "display_data"
    }
   ],
   "source": [
    "# Take a look at \"missings\"\n",
    "\n",
    "display(all_data.isnull().sum())"
   ]
  },
  {
   "cell_type": "code",
   "execution_count": 6,
   "id": "ed38cadb",
   "metadata": {
    "execution": {
     "iopub.execute_input": "2022-01-13T18:20:36.668489Z",
     "iopub.status.busy": "2022-01-13T18:20:36.667885Z",
     "iopub.status.idle": "2022-01-13T18:20:36.686289Z",
     "shell.execute_reply": "2022-01-13T18:20:36.686866Z",
     "shell.execute_reply.started": "2022-01-13T18:14:43.635421Z"
    },
    "papermill": {
     "duration": 0.043288,
     "end_time": "2022-01-13T18:20:36.687043",
     "exception": false,
     "start_time": "2022-01-13T18:20:36.643755",
     "status": "completed"
    },
    "tags": []
   },
   "outputs": [],
   "source": [
    "# Fill in missing ages\n",
    "\n",
    "# SibSp seems to be as good a predictor of age as any (>= 2 indicates travelling with siblings, which likely means a child)\n",
    "all_data['Age'] = all_data.groupby(['SibSp'])['Age'].apply(lambda x: x.fillna(x.median()))\n",
    "\n",
    "# Use Pclass and Sex as a backup\n",
    "all_data['Age'] = all_data.groupby(['Pclass', 'Sex'])['Age'].apply(lambda x: x.fillna(x.median()))"
   ]
  },
  {
   "cell_type": "code",
   "execution_count": 7,
   "id": "5074c2e4",
   "metadata": {
    "execution": {
     "iopub.execute_input": "2022-01-13T18:20:36.734012Z",
     "iopub.status.busy": "2022-01-13T18:20:36.733378Z",
     "iopub.status.idle": "2022-01-13T18:20:36.750298Z",
     "shell.execute_reply": "2022-01-13T18:20:36.750782Z",
     "shell.execute_reply.started": "2022-01-13T18:14:43.655266Z"
    },
    "papermill": {
     "duration": 0.041918,
     "end_time": "2022-01-13T18:20:36.750967",
     "exception": false,
     "start_time": "2022-01-13T18:20:36.709049",
     "status": "completed"
    },
    "tags": []
   },
   "outputs": [
    {
     "data": {
      "text/html": [
       "<div>\n",
       "<style scoped>\n",
       "    .dataframe tbody tr th:only-of-type {\n",
       "        vertical-align: middle;\n",
       "    }\n",
       "\n",
       "    .dataframe tbody tr th {\n",
       "        vertical-align: top;\n",
       "    }\n",
       "\n",
       "    .dataframe thead th {\n",
       "        text-align: right;\n",
       "    }\n",
       "</style>\n",
       "<table border=\"1\" class=\"dataframe\">\n",
       "  <thead>\n",
       "    <tr style=\"text-align: right;\">\n",
       "      <th></th>\n",
       "      <th>Age</th>\n",
       "      <th>Cabin</th>\n",
       "      <th>Embarked</th>\n",
       "      <th>Fare</th>\n",
       "      <th>Name</th>\n",
       "      <th>Parch</th>\n",
       "      <th>PassengerId</th>\n",
       "      <th>Pclass</th>\n",
       "      <th>Sex</th>\n",
       "      <th>SibSp</th>\n",
       "      <th>Survived</th>\n",
       "      <th>Ticket</th>\n",
       "    </tr>\n",
       "  </thead>\n",
       "  <tbody>\n",
       "    <tr>\n",
       "      <th>1043</th>\n",
       "      <td>60.5</td>\n",
       "      <td>NaN</td>\n",
       "      <td>S</td>\n",
       "      <td>NaN</td>\n",
       "      <td>Storey, Mr. Thomas</td>\n",
       "      <td>0</td>\n",
       "      <td>1044</td>\n",
       "      <td>3</td>\n",
       "      <td>male</td>\n",
       "      <td>0</td>\n",
       "      <td>NaN</td>\n",
       "      <td>3701</td>\n",
       "    </tr>\n",
       "  </tbody>\n",
       "</table>\n",
       "</div>"
      ],
      "text/plain": [
       "       Age Cabin Embarked  Fare                Name  Parch  PassengerId  \\\n",
       "1043  60.5   NaN        S   NaN  Storey, Mr. Thomas      0         1044   \n",
       "\n",
       "      Pclass   Sex  SibSp  Survived Ticket  \n",
       "1043       3  male      0       NaN   3701  "
      ]
     },
     "execution_count": 7,
     "metadata": {},
     "output_type": "execute_result"
    }
   ],
   "source": [
    "# Look at missing fare\n",
    "\n",
    "all_data.loc[all_data['Fare'].isnull()]"
   ]
  },
  {
   "cell_type": "code",
   "execution_count": 8,
   "id": "5a01483d",
   "metadata": {
    "execution": {
     "iopub.execute_input": "2022-01-13T18:20:36.798426Z",
     "iopub.status.busy": "2022-01-13T18:20:36.797758Z",
     "iopub.status.idle": "2022-01-13T18:20:36.806249Z",
     "shell.execute_reply": "2022-01-13T18:20:36.806730Z",
     "shell.execute_reply.started": "2022-01-13T18:14:43.675928Z"
    },
    "papermill": {
     "duration": 0.033809,
     "end_time": "2022-01-13T18:20:36.806910",
     "exception": false,
     "start_time": "2022-01-13T18:20:36.773101",
     "status": "completed"
    },
    "tags": []
   },
   "outputs": [
    {
     "name": "stdout",
     "output_type": "stream",
     "text": [
      "7.925\n"
     ]
    }
   ],
   "source": [
    "# Get the median fare from passengers with the same Pclass, SibSp, and Embarked as Mr. Thomas to fill in his fare\n",
    "\n",
    "mr_thomas_fare = all_data.loc[(all_data['Pclass'] == 3) & (all_data['SibSp'] == 0) & (all_data['Embarked'] == 'S')]['Fare'].median()\n",
    "print(mr_thomas_fare)\n",
    "all_data.loc[all_data['Fare'].isnull(), 'Fare'] = mr_thomas_fare"
   ]
  },
  {
   "cell_type": "code",
   "execution_count": 9,
   "id": "4802a68b",
   "metadata": {
    "execution": {
     "iopub.execute_input": "2022-01-13T18:20:36.857996Z",
     "iopub.status.busy": "2022-01-13T18:20:36.857348Z",
     "iopub.status.idle": "2022-01-13T18:20:36.869085Z",
     "shell.execute_reply": "2022-01-13T18:20:36.869889Z",
     "shell.execute_reply.started": "2022-01-13T18:14:43.689494Z"
    },
    "papermill": {
     "duration": 0.040844,
     "end_time": "2022-01-13T18:20:36.870074",
     "exception": false,
     "start_time": "2022-01-13T18:20:36.829230",
     "status": "completed"
    },
    "tags": []
   },
   "outputs": [
    {
     "data": {
      "text/html": [
       "<div>\n",
       "<style scoped>\n",
       "    .dataframe tbody tr th:only-of-type {\n",
       "        vertical-align: middle;\n",
       "    }\n",
       "\n",
       "    .dataframe tbody tr th {\n",
       "        vertical-align: top;\n",
       "    }\n",
       "\n",
       "    .dataframe thead th {\n",
       "        text-align: right;\n",
       "    }\n",
       "</style>\n",
       "<table border=\"1\" class=\"dataframe\">\n",
       "  <thead>\n",
       "    <tr style=\"text-align: right;\">\n",
       "      <th></th>\n",
       "      <th>Age</th>\n",
       "      <th>Cabin</th>\n",
       "      <th>Embarked</th>\n",
       "      <th>Fare</th>\n",
       "      <th>Name</th>\n",
       "      <th>Parch</th>\n",
       "      <th>PassengerId</th>\n",
       "      <th>Pclass</th>\n",
       "      <th>Sex</th>\n",
       "      <th>SibSp</th>\n",
       "      <th>Survived</th>\n",
       "      <th>Ticket</th>\n",
       "    </tr>\n",
       "  </thead>\n",
       "  <tbody>\n",
       "    <tr>\n",
       "      <th>61</th>\n",
       "      <td>38.0</td>\n",
       "      <td>B28</td>\n",
       "      <td>NaN</td>\n",
       "      <td>80.0</td>\n",
       "      <td>Icard, Miss. Amelie</td>\n",
       "      <td>0</td>\n",
       "      <td>62</td>\n",
       "      <td>1</td>\n",
       "      <td>female</td>\n",
       "      <td>0</td>\n",
       "      <td>1.0</td>\n",
       "      <td>113572</td>\n",
       "    </tr>\n",
       "    <tr>\n",
       "      <th>829</th>\n",
       "      <td>62.0</td>\n",
       "      <td>B28</td>\n",
       "      <td>NaN</td>\n",
       "      <td>80.0</td>\n",
       "      <td>Stone, Mrs. George Nelson (Martha Evelyn)</td>\n",
       "      <td>0</td>\n",
       "      <td>830</td>\n",
       "      <td>1</td>\n",
       "      <td>female</td>\n",
       "      <td>0</td>\n",
       "      <td>1.0</td>\n",
       "      <td>113572</td>\n",
       "    </tr>\n",
       "  </tbody>\n",
       "</table>\n",
       "</div>"
      ],
      "text/plain": [
       "      Age Cabin Embarked  Fare                                       Name  \\\n",
       "61   38.0   B28      NaN  80.0                        Icard, Miss. Amelie   \n",
       "829  62.0   B28      NaN  80.0  Stone, Mrs. George Nelson (Martha Evelyn)   \n",
       "\n",
       "     Parch  PassengerId  Pclass     Sex  SibSp  Survived  Ticket  \n",
       "61       0           62       1  female      0       1.0  113572  \n",
       "829      0          830       1  female      0       1.0  113572  "
      ]
     },
     "execution_count": 9,
     "metadata": {},
     "output_type": "execute_result"
    }
   ],
   "source": [
    "# Look at missing 'Embarkeds'\n",
    "\n",
    "all_data.loc[all_data['Embarked'].isnull()]"
   ]
  },
  {
   "cell_type": "code",
   "execution_count": 10,
   "id": "da52e745",
   "metadata": {
    "execution": {
     "iopub.execute_input": "2022-01-13T18:20:36.921741Z",
     "iopub.status.busy": "2022-01-13T18:20:36.921073Z",
     "iopub.status.idle": "2022-01-13T18:20:36.923343Z",
     "shell.execute_reply": "2022-01-13T18:20:36.923853Z",
     "shell.execute_reply.started": "2022-01-13T18:14:43.710914Z"
    },
    "papermill": {
     "duration": 0.031262,
     "end_time": "2022-01-13T18:20:36.924018",
     "exception": false,
     "start_time": "2022-01-13T18:20:36.892756",
     "status": "completed"
    },
    "tags": []
   },
   "outputs": [],
   "source": [
    "# According to 'Encyclopedia Titanica', both boarded at Southampton\n",
    "# https://www.encyclopedia-titanica.org/titanic-survivor/amelia-icard.html\n",
    "# https://www.encyclopedia-titanica.org/titanic-survivor/martha-evelyn-stone.html\n",
    "\n",
    "all_data.loc[61, 'Embarked'] = 'S'\n",
    "all_data.loc[829, 'Embarked'] = 'S'"
   ]
  },
  {
   "cell_type": "code",
   "execution_count": 11,
   "id": "531f1a74",
   "metadata": {
    "execution": {
     "iopub.execute_input": "2022-01-13T18:20:36.973575Z",
     "iopub.status.busy": "2022-01-13T18:20:36.972911Z",
     "iopub.status.idle": "2022-01-13T18:20:36.980066Z",
     "shell.execute_reply": "2022-01-13T18:20:36.980578Z",
     "shell.execute_reply.started": "2022-01-13T18:14:43.718597Z"
    },
    "papermill": {
     "duration": 0.033449,
     "end_time": "2022-01-13T18:20:36.980749",
     "exception": false,
     "start_time": "2022-01-13T18:20:36.947300",
     "status": "completed"
    },
    "tags": []
   },
   "outputs": [
    {
     "data": {
      "text/plain": [
       "Age               0\n",
       "Cabin          1014\n",
       "Embarked          0\n",
       "Fare              0\n",
       "Name              0\n",
       "Parch             0\n",
       "PassengerId       0\n",
       "Pclass            0\n",
       "Sex               0\n",
       "SibSp             0\n",
       "Survived        418\n",
       "Ticket            0\n",
       "dtype: int64"
      ]
     },
     "metadata": {},
     "output_type": "display_data"
    }
   ],
   "source": [
    "# Take a look at \"missings\"\n",
    "\n",
    "display(all_data.isnull().sum())"
   ]
  },
  {
   "cell_type": "code",
   "execution_count": 12,
   "id": "1595dc32",
   "metadata": {
    "execution": {
     "iopub.execute_input": "2022-01-13T18:20:37.030715Z",
     "iopub.status.busy": "2022-01-13T18:20:37.030056Z",
     "iopub.status.idle": "2022-01-13T18:20:37.038565Z",
     "shell.execute_reply": "2022-01-13T18:20:37.039188Z",
     "shell.execute_reply.started": "2022-01-13T18:14:43.736395Z"
    },
    "papermill": {
     "duration": 0.035059,
     "end_time": "2022-01-13T18:20:37.039354",
     "exception": false,
     "start_time": "2022-01-13T18:20:37.004295",
     "status": "completed"
    },
    "tags": []
   },
   "outputs": [
    {
     "name": "stdout",
     "output_type": "stream",
     "text": [
      "187 unique cabins including: [nan 'C85' 'C123' 'E46' 'G6' 'C103' 'D56' 'A6' 'C23 C25 C27' 'B78'] ...\n",
      "Number of entries with missing cabin: 1014\n",
      "Total number of entries: 1309\n"
     ]
    }
   ],
   "source": [
    "# Look at cabins\n",
    "\n",
    "print(len(all_data['Cabin'].unique()), \"unique cabins including:\", all_data['Cabin'].unique()[:10], \"...\")\n",
    "print('Number of entries with missing cabin:', all_data['Cabin'].isnull().sum())\n",
    "print('Total number of entries:', len(all_data.index))"
   ]
  },
  {
   "cell_type": "code",
   "execution_count": 13,
   "id": "040274ec",
   "metadata": {
    "execution": {
     "iopub.execute_input": "2022-01-13T18:20:37.090595Z",
     "iopub.status.busy": "2022-01-13T18:20:37.089966Z",
     "iopub.status.idle": "2022-01-13T18:20:37.362211Z",
     "shell.execute_reply": "2022-01-13T18:20:37.362719Z",
     "shell.execute_reply.started": "2022-01-13T18:14:43.751767Z"
    },
    "papermill": {
     "duration": 0.299492,
     "end_time": "2022-01-13T18:20:37.362922",
     "exception": false,
     "start_time": "2022-01-13T18:20:37.063430",
     "status": "completed"
    },
    "tags": []
   },
   "outputs": [
    {
     "name": "stdout",
     "output_type": "stream",
     "text": [
      "Survival rate by cabin\n"
     ]
    },
    {
     "data": {
      "text/plain": [
       "<AxesSubplot:xlabel='Deck'>"
      ]
     },
     "execution_count": 13,
     "metadata": {},
     "output_type": "execute_result"
    },
    {
     "data": {
      "image/png": "[encoded data removed]",
      "text/plain": [
       "<Figure size 432x288 with 1 Axes>"
      ]
     },
     "metadata": {
      "needs_background": "light"
     },
     "output_type": "display_data"
    }
   ],
   "source": [
    "# Keep first letter of cabin (indicating deck) only and insert 'M' for missing\n",
    "\n",
    "all_data['Deck'] = all_data['Cabin'].apply(lambda c: c[0] if pd.notnull(c) else 'M')\n",
    "print('Survival rate by cabin')\n",
    "all_data[['Deck', 'Survived']].groupby('Deck')['Survived'].mean().plot(kind='bar')"
   ]
  },
  {
   "cell_type": "code",
   "execution_count": 14,
   "id": "1004ce76",
   "metadata": {
    "execution": {
     "iopub.execute_input": "2022-01-13T18:20:37.418581Z",
     "iopub.status.busy": "2022-01-13T18:20:37.417969Z",
     "iopub.status.idle": "2022-01-13T18:20:37.425358Z",
     "shell.execute_reply": "2022-01-13T18:20:37.424850Z",
     "shell.execute_reply.started": "2022-01-13T18:14:43.982755Z"
    },
    "papermill": {
     "duration": 0.03763,
     "end_time": "2022-01-13T18:20:37.425497",
     "exception": false,
     "start_time": "2022-01-13T18:20:37.387867",
     "status": "completed"
    },
    "tags": []
   },
   "outputs": [
    {
     "data": {
      "text/plain": [
       "Age               0\n",
       "Cabin          1014\n",
       "Embarked          0\n",
       "Fare              0\n",
       "Name              0\n",
       "Parch             0\n",
       "PassengerId       0\n",
       "Pclass            0\n",
       "Sex               0\n",
       "SibSp             0\n",
       "Survived        418\n",
       "Ticket            0\n",
       "Deck              0\n",
       "dtype: int64"
      ]
     },
     "metadata": {},
     "output_type": "display_data"
    }
   ],
   "source": [
    "# Take a look at \"missings\"\n",
    "\n",
    "display(all_data.isnull().sum())"
   ]
  },
  {
   "cell_type": "markdown",
   "id": "cacc9afb",
   "metadata": {
    "papermill": {
     "duration": 0.024792,
     "end_time": "2022-01-13T18:20:37.476258",
     "exception": false,
     "start_time": "2022-01-13T18:20:37.451466",
     "status": "completed"
    },
    "tags": []
   },
   "source": [
    "# Feature engineering"
   ]
  },
  {
   "cell_type": "markdown",
   "id": "3352b6d1",
   "metadata": {
    "papermill": {
     "duration": 0.024812,
     "end_time": "2022-01-13T18:20:37.526332",
     "exception": false,
     "start_time": "2022-01-13T18:20:37.501520",
     "status": "completed"
    },
    "tags": []
   },
   "source": [
    "## Binning"
   ]
  },
  {
   "cell_type": "code",
   "execution_count": 15,
   "id": "4b7f900a",
   "metadata": {
    "execution": {
     "iopub.execute_input": "2022-01-13T18:20:37.621376Z",
     "iopub.status.busy": "2022-01-13T18:20:37.620335Z",
     "iopub.status.idle": "2022-01-13T18:20:37.760316Z",
     "shell.execute_reply": "2022-01-13T18:20:37.760843Z",
     "shell.execute_reply.started": "2022-01-13T18:14:43.994902Z"
    },
    "papermill": {
     "duration": 0.209352,
     "end_time": "2022-01-13T18:20:37.761013",
     "exception": false,
     "start_time": "2022-01-13T18:20:37.551661",
     "status": "completed"
    },
    "tags": []
   },
   "outputs": [
    {
     "data": {
      "text/plain": [
       "<AxesSubplot:>"
      ]
     },
     "execution_count": 15,
     "metadata": {},
     "output_type": "execute_result"
    },
    {
     "data": {
      "image/png": "[encoded data removed]",
      "text/plain": [
       "<Figure size 432x288 with 1 Axes>"
      ]
     },
     "metadata": {
      "needs_background": "light"
     },
     "output_type": "display_data"
    }
   ],
   "source": [
    "# Check outliers for continuous variables Fare and Age\n",
    "\n",
    "all_data.boxplot(column=['Fare'])"
   ]
  },
  {
   "cell_type": "code",
   "execution_count": 16,
   "id": "711caded",
   "metadata": {
    "execution": {
     "iopub.execute_input": "2022-01-13T18:20:37.821102Z",
     "iopub.status.busy": "2022-01-13T18:20:37.820097Z",
     "iopub.status.idle": "2022-01-13T18:20:38.008107Z",
     "shell.execute_reply": "2022-01-13T18:20:38.007490Z",
     "shell.execute_reply.started": "2022-01-13T18:14:44.177706Z"
    },
    "papermill": {
     "duration": 0.220091,
     "end_time": "2022-01-13T18:20:38.008252",
     "exception": false,
     "start_time": "2022-01-13T18:20:37.788161",
     "status": "completed"
    },
    "tags": []
   },
   "outputs": [
    {
     "data": {
      "text/plain": [
       "<AxesSubplot:>"
      ]
     },
     "execution_count": 16,
     "metadata": {},
     "output_type": "execute_result"
    },
    {
     "data": {
      "image/png": "[encoded data removed]",
      "text/plain": [
       "<Figure size 432x288 with 1 Axes>"
      ]
     },
     "metadata": {
      "needs_background": "light"
     },
     "output_type": "display_data"
    }
   ],
   "source": [
    "all_data.boxplot(column=['Age'])"
   ]
  },
  {
   "cell_type": "code",
   "execution_count": 17,
   "id": "10665215",
   "metadata": {
    "execution": {
     "iopub.execute_input": "2022-01-13T18:20:38.068790Z",
     "iopub.status.busy": "2022-01-13T18:20:38.066773Z",
     "iopub.status.idle": "2022-01-13T18:20:38.088384Z",
     "shell.execute_reply": "2022-01-13T18:20:38.088956Z",
     "shell.execute_reply.started": "2022-01-13T18:14:44.363213Z"
    },
    "papermill": {
     "duration": 0.052654,
     "end_time": "2022-01-13T18:20:38.089126",
     "exception": false,
     "start_time": "2022-01-13T18:20:38.036472",
     "status": "completed"
    },
    "tags": []
   },
   "outputs": [
    {
     "data": {
      "text/plain": [
       "(-0.001, 7.854]      275\n",
       "(21.558, 41.579]     265\n",
       "(41.579, 512.329]    259\n",
       "(7.854, 10.5]        255\n",
       "(10.5, 21.558]       255\n",
       "Name: Fare, dtype: int64"
      ]
     },
     "execution_count": 17,
     "metadata": {},
     "output_type": "execute_result"
    }
   ],
   "source": [
    "# Outliers can disrupt learning, so split up the distribution for each\n",
    "\n",
    "# For Fare, use qcut to assign approximately equal number of cases to each category\n",
    "\n",
    "all_data['Fare'] = pd.qcut(all_data['Fare'], 5)\n",
    "all_data['Fare'].value_counts()"
   ]
  },
  {
   "cell_type": "code",
   "execution_count": 18,
   "id": "b0a5c744",
   "metadata": {
    "execution": {
     "iopub.execute_input": "2022-01-13T18:20:38.147591Z",
     "iopub.status.busy": "2022-01-13T18:20:38.146902Z",
     "iopub.status.idle": "2022-01-13T18:20:38.158590Z",
     "shell.execute_reply": "2022-01-13T18:20:38.159104Z",
     "shell.execute_reply.started": "2022-01-13T18:14:44.385284Z"
    },
    "papermill": {
     "duration": 0.042532,
     "end_time": "2022-01-13T18:20:38.159269",
     "exception": false,
     "start_time": "2022-01-13T18:20:38.116737",
     "status": "completed"
    },
    "tags": []
   },
   "outputs": [
    {
     "data": {
      "text/plain": [
       "(16.0, 32.0]     779\n",
       "(32.0, 48.0]     265\n",
       "(-0.08, 16.0]    146\n",
       "(48.0, 64.0]     106\n",
       "(64.0, 80.0]      13\n",
       "Name: Age, dtype: int64"
      ]
     },
     "execution_count": 18,
     "metadata": {},
     "output_type": "execute_result"
    }
   ],
   "source": [
    "# For Age, use cut to split according to values\n",
    "\n",
    "all_data['Age'] = pd.cut(all_data['Age'].astype(int), 5)\n",
    "all_data['Age'].value_counts()                                  "
   ]
  },
  {
   "cell_type": "markdown",
   "id": "a77d19da",
   "metadata": {
    "papermill": {
     "duration": 0.028327,
     "end_time": "2022-01-13T18:20:38.216277",
     "exception": false,
     "start_time": "2022-01-13T18:20:38.187950",
     "status": "completed"
    },
    "tags": []
   },
   "source": [
    "## New feature creation"
   ]
  },
  {
   "cell_type": "code",
   "execution_count": 19,
   "id": "d7799db2",
   "metadata": {
    "execution": {
     "iopub.execute_input": "2022-01-13T18:20:38.275121Z",
     "iopub.status.busy": "2022-01-13T18:20:38.274430Z",
     "iopub.status.idle": "2022-01-13T18:20:38.499375Z",
     "shell.execute_reply": "2022-01-13T18:20:38.499948Z",
     "shell.execute_reply.started": "2022-01-13T18:14:44.403113Z"
    },
    "papermill": {
     "duration": 0.255687,
     "end_time": "2022-01-13T18:20:38.500120",
     "exception": false,
     "start_time": "2022-01-13T18:20:38.244433",
     "status": "completed"
    },
    "tags": []
   },
   "outputs": [
    {
     "data": {
      "text/plain": [
       "<AxesSubplot:>"
      ]
     },
     "execution_count": 19,
     "metadata": {},
     "output_type": "execute_result"
    },
    {
     "data": {
      "image/png": "[encoded data removed]",
      "text/plain": [
       "<Figure size 432x288 with 1 Axes>"
      ]
     },
     "metadata": {
      "needs_background": "light"
     },
     "output_type": "display_data"
    }
   ],
   "source": [
    "# Combine sibSp and Parch to create new feature Family_Size\n",
    "\n",
    "all_data['Family_Size'] = all_data['SibSp'] + all_data['Parch'] + 1\n",
    "all_data['Family_Size'].hist()"
   ]
  },
  {
   "cell_type": "code",
   "execution_count": 20,
   "id": "86b0419c",
   "metadata": {
    "execution": {
     "iopub.execute_input": "2022-01-13T18:20:38.561245Z",
     "iopub.status.busy": "2022-01-13T18:20:38.560590Z",
     "iopub.status.idle": "2022-01-13T18:20:38.801508Z",
     "shell.execute_reply": "2022-01-13T18:20:38.800637Z",
     "shell.execute_reply.started": "2022-01-13T18:14:44.630043Z"
    },
    "papermill": {
     "duration": 0.272558,
     "end_time": "2022-01-13T18:20:38.801671",
     "exception": false,
     "start_time": "2022-01-13T18:20:38.529113",
     "status": "completed"
    },
    "tags": []
   },
   "outputs": [
    {
     "data": {
      "text/plain": [
       "<AxesSubplot:>"
      ]
     },
     "execution_count": 20,
     "metadata": {},
     "output_type": "execute_result"
    },
    {
     "data": {
      "image/png": "[encoded data removed]",
      "text/plain": [
       "<Figure size 432x288 with 1 Axes>"
      ]
     },
     "metadata": {
      "needs_background": "light"
     },
     "output_type": "display_data"
    }
   ],
   "source": [
    "# Bin family size to group to group family size of four of higher into a single value\n",
    "\n",
    "all_data['Family_Size_Bin'] = all_data['Family_Size'].map(lambda fs: fs if fs <= 3 else (4 if fs > 3 else 0))\n",
    "all_data['Family_Size_Bin'].hist()"
   ]
  },
  {
   "cell_type": "code",
   "execution_count": 21,
   "id": "c33a5e4d",
   "metadata": {
    "execution": {
     "iopub.execute_input": "2022-01-13T18:20:38.867222Z",
     "iopub.status.busy": "2022-01-13T18:20:38.866533Z",
     "iopub.status.idle": "2022-01-13T18:20:38.871160Z",
     "shell.execute_reply": "2022-01-13T18:20:38.871663Z",
     "shell.execute_reply.started": "2022-01-13T18:14:44.865585Z"
    },
    "papermill": {
     "duration": 0.040344,
     "end_time": "2022-01-13T18:20:38.871826",
     "exception": false,
     "start_time": "2022-01-13T18:20:38.831482",
     "status": "completed"
    },
    "tags": []
   },
   "outputs": [],
   "source": [
    "# Create Ticket_Frequency feature\n",
    "\n",
    "all_data['Ticket_Freq'] = all_data.groupby('Ticket')['Ticket'].transform('count')"
   ]
  },
  {
   "cell_type": "code",
   "execution_count": 22,
   "id": "c8011d89",
   "metadata": {
    "execution": {
     "iopub.execute_input": "2022-01-13T18:20:38.938702Z",
     "iopub.status.busy": "2022-01-13T18:20:38.938060Z",
     "iopub.status.idle": "2022-01-13T18:20:38.967360Z",
     "shell.execute_reply": "2022-01-13T18:20:38.967873Z",
     "shell.execute_reply.started": "2022-01-13T18:20:08.107921Z"
    },
    "papermill": {
     "duration": 0.066565,
     "end_time": "2022-01-13T18:20:38.968036",
     "exception": false,
     "start_time": "2022-01-13T18:20:38.901471",
     "status": "completed"
    },
    "tags": []
   },
   "outputs": [
    {
     "data": {
      "text/html": [
       "<div>\n",
       "<style scoped>\n",
       "    .dataframe tbody tr th:only-of-type {\n",
       "        vertical-align: middle;\n",
       "    }\n",
       "\n",
       "    .dataframe tbody tr th {\n",
       "        vertical-align: top;\n",
       "    }\n",
       "\n",
       "    .dataframe thead th {\n",
       "        text-align: right;\n",
       "    }\n",
       "</style>\n",
       "<table border=\"1\" class=\"dataframe\">\n",
       "  <thead>\n",
       "    <tr style=\"text-align: right;\">\n",
       "      <th></th>\n",
       "      <th>Pclass</th>\n",
       "      <th>Family_Size_Bin</th>\n",
       "      <th>Ticket_Freq</th>\n",
       "      <th>Sex_female</th>\n",
       "      <th>Sex_male</th>\n",
       "      <th>Age_(-0.08, 16.0]</th>\n",
       "      <th>Age_(16.0, 32.0]</th>\n",
       "      <th>Age_(32.0, 48.0]</th>\n",
       "      <th>Age_(48.0, 64.0]</th>\n",
       "      <th>Age_(64.0, 80.0]</th>\n",
       "      <th>...</th>\n",
       "      <th>Deck_C</th>\n",
       "      <th>Deck_D</th>\n",
       "      <th>Deck_E</th>\n",
       "      <th>Deck_F</th>\n",
       "      <th>Deck_G</th>\n",
       "      <th>Deck_M</th>\n",
       "      <th>Deck_T</th>\n",
       "      <th>Embarked_C</th>\n",
       "      <th>Embarked_Q</th>\n",
       "      <th>Embarked_S</th>\n",
       "    </tr>\n",
       "  </thead>\n",
       "  <tbody>\n",
       "    <tr>\n",
       "      <th>891</th>\n",
       "      <td>3</td>\n",
       "      <td>1</td>\n",
       "      <td>1</td>\n",
       "      <td>0</td>\n",
       "      <td>1</td>\n",
       "      <td>0</td>\n",
       "      <td>0</td>\n",
       "      <td>1</td>\n",
       "      <td>0</td>\n",
       "      <td>0</td>\n",
       "      <td>...</td>\n",
       "      <td>0</td>\n",
       "      <td>0</td>\n",
       "      <td>0</td>\n",
       "      <td>0</td>\n",
       "      <td>0</td>\n",
       "      <td>1</td>\n",
       "      <td>0</td>\n",
       "      <td>0</td>\n",
       "      <td>1</td>\n",
       "      <td>0</td>\n",
       "    </tr>\n",
       "    <tr>\n",
       "      <th>892</th>\n",
       "      <td>3</td>\n",
       "      <td>2</td>\n",
       "      <td>1</td>\n",
       "      <td>1</td>\n",
       "      <td>0</td>\n",
       "      <td>0</td>\n",
       "      <td>0</td>\n",
       "      <td>1</td>\n",
       "      <td>0</td>\n",
       "      <td>0</td>\n",
       "      <td>...</td>\n",
       "      <td>0</td>\n",
       "      <td>0</td>\n",
       "      <td>0</td>\n",
       "      <td>0</td>\n",
       "      <td>0</td>\n",
       "      <td>1</td>\n",
       "      <td>0</td>\n",
       "      <td>0</td>\n",
       "      <td>0</td>\n",
       "      <td>1</td>\n",
       "    </tr>\n",
       "    <tr>\n",
       "      <th>893</th>\n",
       "      <td>2</td>\n",
       "      <td>1</td>\n",
       "      <td>1</td>\n",
       "      <td>0</td>\n",
       "      <td>1</td>\n",
       "      <td>0</td>\n",
       "      <td>0</td>\n",
       "      <td>0</td>\n",
       "      <td>1</td>\n",
       "      <td>0</td>\n",
       "      <td>...</td>\n",
       "      <td>0</td>\n",
       "      <td>0</td>\n",
       "      <td>0</td>\n",
       "      <td>0</td>\n",
       "      <td>0</td>\n",
       "      <td>1</td>\n",
       "      <td>0</td>\n",
       "      <td>0</td>\n",
       "      <td>1</td>\n",
       "      <td>0</td>\n",
       "    </tr>\n",
       "    <tr>\n",
       "      <th>894</th>\n",
       "      <td>3</td>\n",
       "      <td>1</td>\n",
       "      <td>1</td>\n",
       "      <td>0</td>\n",
       "      <td>1</td>\n",
       "      <td>0</td>\n",
       "      <td>1</td>\n",
       "      <td>0</td>\n",
       "      <td>0</td>\n",
       "      <td>0</td>\n",
       "      <td>...</td>\n",
       "      <td>0</td>\n",
       "      <td>0</td>\n",
       "      <td>0</td>\n",
       "      <td>0</td>\n",
       "      <td>0</td>\n",
       "      <td>1</td>\n",
       "      <td>0</td>\n",
       "      <td>0</td>\n",
       "      <td>0</td>\n",
       "      <td>1</td>\n",
       "    </tr>\n",
       "    <tr>\n",
       "      <th>895</th>\n",
       "      <td>3</td>\n",
       "      <td>3</td>\n",
       "      <td>2</td>\n",
       "      <td>1</td>\n",
       "      <td>0</td>\n",
       "      <td>0</td>\n",
       "      <td>1</td>\n",
       "      <td>0</td>\n",
       "      <td>0</td>\n",
       "      <td>0</td>\n",
       "      <td>...</td>\n",
       "      <td>0</td>\n",
       "      <td>0</td>\n",
       "      <td>0</td>\n",
       "      <td>0</td>\n",
       "      <td>0</td>\n",
       "      <td>1</td>\n",
       "      <td>0</td>\n",
       "      <td>0</td>\n",
       "      <td>0</td>\n",
       "      <td>1</td>\n",
       "    </tr>\n",
       "    <tr>\n",
       "      <th>...</th>\n",
       "      <td>...</td>\n",
       "      <td>...</td>\n",
       "      <td>...</td>\n",
       "      <td>...</td>\n",
       "      <td>...</td>\n",
       "      <td>...</td>\n",
       "      <td>...</td>\n",
       "      <td>...</td>\n",
       "      <td>...</td>\n",
       "      <td>...</td>\n",
       "      <td>...</td>\n",
       "      <td>...</td>\n",
       "      <td>...</td>\n",
       "      <td>...</td>\n",
       "      <td>...</td>\n",
       "      <td>...</td>\n",
       "      <td>...</td>\n",
       "      <td>...</td>\n",
       "      <td>...</td>\n",
       "      <td>...</td>\n",
       "      <td>...</td>\n",
       "    </tr>\n",
       "    <tr>\n",
       "      <th>1304</th>\n",
       "      <td>3</td>\n",
       "      <td>1</td>\n",
       "      <td>1</td>\n",
       "      <td>0</td>\n",
       "      <td>1</td>\n",
       "      <td>0</td>\n",
       "      <td>1</td>\n",
       "      <td>0</td>\n",
       "      <td>0</td>\n",
       "      <td>0</td>\n",
       "      <td>...</td>\n",
       "      <td>0</td>\n",
       "      <td>0</td>\n",
       "      <td>0</td>\n",
       "      <td>0</td>\n",
       "      <td>0</td>\n",
       "      <td>1</td>\n",
       "      <td>0</td>\n",
       "      <td>0</td>\n",
       "      <td>0</td>\n",
       "      <td>1</td>\n",
       "    </tr>\n",
       "    <tr>\n",
       "      <th>1305</th>\n",
       "      <td>1</td>\n",
       "      <td>1</td>\n",
       "      <td>3</td>\n",
       "      <td>1</td>\n",
       "      <td>0</td>\n",
       "      <td>0</td>\n",
       "      <td>0</td>\n",
       "      <td>1</td>\n",
       "      <td>0</td>\n",
       "      <td>0</td>\n",
       "      <td>...</td>\n",
       "      <td>1</td>\n",
       "      <td>0</td>\n",
       "      <td>0</td>\n",
       "      <td>0</td>\n",
       "      <td>0</td>\n",
       "      <td>0</td>\n",
       "      <td>0</td>\n",
       "      <td>1</td>\n",
       "      <td>0</td>\n",
       "      <td>0</td>\n",
       "    </tr>\n",
       "    <tr>\n",
       "      <th>1306</th>\n",
       "      <td>3</td>\n",
       "      <td>1</td>\n",
       "      <td>1</td>\n",
       "      <td>0</td>\n",
       "      <td>1</td>\n",
       "      <td>0</td>\n",
       "      <td>0</td>\n",
       "      <td>1</td>\n",
       "      <td>0</td>\n",
       "      <td>0</td>\n",
       "      <td>...</td>\n",
       "      <td>0</td>\n",
       "      <td>0</td>\n",
       "      <td>0</td>\n",
       "      <td>0</td>\n",
       "      <td>0</td>\n",
       "      <td>1</td>\n",
       "      <td>0</td>\n",
       "      <td>0</td>\n",
       "      <td>0</td>\n",
       "      <td>1</td>\n",
       "    </tr>\n",
       "    <tr>\n",
       "      <th>1307</th>\n",
       "      <td>3</td>\n",
       "      <td>1</td>\n",
       "      <td>1</td>\n",
       "      <td>0</td>\n",
       "      <td>1</td>\n",
       "      <td>0</td>\n",
       "      <td>1</td>\n",
       "      <td>0</td>\n",
       "      <td>0</td>\n",
       "      <td>0</td>\n",
       "      <td>...</td>\n",
       "      <td>0</td>\n",
       "      <td>0</td>\n",
       "      <td>0</td>\n",
       "      <td>0</td>\n",
       "      <td>0</td>\n",
       "      <td>1</td>\n",
       "      <td>0</td>\n",
       "      <td>0</td>\n",
       "      <td>0</td>\n",
       "      <td>1</td>\n",
       "    </tr>\n",
       "    <tr>\n",
       "      <th>1308</th>\n",
       "      <td>3</td>\n",
       "      <td>3</td>\n",
       "      <td>3</td>\n",
       "      <td>0</td>\n",
       "      <td>1</td>\n",
       "      <td>0</td>\n",
       "      <td>1</td>\n",
       "      <td>0</td>\n",
       "      <td>0</td>\n",
       "      <td>0</td>\n",
       "      <td>...</td>\n",
       "      <td>0</td>\n",
       "      <td>0</td>\n",
       "      <td>0</td>\n",
       "      <td>0</td>\n",
       "      <td>0</td>\n",
       "      <td>1</td>\n",
       "      <td>0</td>\n",
       "      <td>1</td>\n",
       "      <td>0</td>\n",
       "      <td>0</td>\n",
       "    </tr>\n",
       "  </tbody>\n",
       "</table>\n",
       "<p>418 rows × 27 columns</p>\n",
       "</div>"
      ],
      "text/plain": [
       "      Pclass  Family_Size_Bin  Ticket_Freq  Sex_female  Sex_male  \\\n",
       "891        3                1            1           0         1   \n",
       "892        3                2            1           1         0   \n",
       "893        2                1            1           0         1   \n",
       "894        3                1            1           0         1   \n",
       "895        3                3            2           1         0   \n",
       "...      ...              ...          ...         ...       ...   \n",
       "1304       3                1            1           0         1   \n",
       "1305       1                1            3           1         0   \n",
       "1306       3                1            1           0         1   \n",
       "1307       3                1            1           0         1   \n",
       "1308       3                3            3           0         1   \n",
       "\n",
       "      Age_(-0.08, 16.0]  Age_(16.0, 32.0]  Age_(32.0, 48.0]  Age_(48.0, 64.0]  \\\n",
       "891                   0                 0                 1                 0   \n",
       "892                   0                 0                 1                 0   \n",
       "893                   0                 0                 0                 1   \n",
       "894                   0                 1                 0                 0   \n",
       "895                   0                 1                 0                 0   \n",
       "...                 ...               ...               ...               ...   \n",
       "1304                  0                 1                 0                 0   \n",
       "1305                  0                 0                 1                 0   \n",
       "1306                  0                 0                 1                 0   \n",
       "1307                  0                 1                 0                 0   \n",
       "1308                  0                 1                 0                 0   \n",
       "\n",
       "      Age_(64.0, 80.0]  ...  Deck_C  Deck_D  Deck_E  Deck_F  Deck_G  Deck_M  \\\n",
       "891                  0  ...       0       0       0       0       0       1   \n",
       "892                  0  ...       0       0       0       0       0       1   \n",
       "893                  0  ...       0       0       0       0       0       1   \n",
       "894                  0  ...       0       0       0       0       0       1   \n",
       "895                  0  ...       0       0       0       0       0       1   \n",
       "...                ...  ...     ...     ...     ...     ...     ...     ...   \n",
       "1304                 0  ...       0       0       0       0       0       1   \n",
       "1305                 0  ...       1       0       0       0       0       0   \n",
       "1306                 0  ...       0       0       0       0       0       1   \n",
       "1307                 0  ...       0       0       0       0       0       1   \n",
       "1308                 0  ...       0       0       0       0       0       1   \n",
       "\n",
       "      Deck_T  Embarked_C  Embarked_Q  Embarked_S  \n",
       "891        0           0           1           0  \n",
       "892        0           0           0           1  \n",
       "893        0           0           1           0  \n",
       "894        0           0           0           1  \n",
       "895        0           0           0           1  \n",
       "...      ...         ...         ...         ...  \n",
       "1304       0           0           0           1  \n",
       "1305       0           1           0           0  \n",
       "1306       0           0           0           1  \n",
       "1307       0           0           0           1  \n",
       "1308       0           1           0           0  \n",
       "\n",
       "[418 rows x 27 columns]"
      ]
     },
     "metadata": {},
     "output_type": "display_data"
    }
   ],
   "source": [
    "train_data, test_data = divide_titanic_df(all_data)\n",
    "y = train_data[\"Survived\"]\n",
    "\n",
    "features = [\"Pclass\", \"Sex\", \"Family_Size_Bin\", \"Age\", \"Fare\", \"Deck\", \"Ticket_Freq\", \"Embarked\"]\n",
    "\n",
    "all_dummies = pd.get_dummies(all_data[features])\n",
    "X = all_dummies.loc[:890]\n",
    "X_test = all_dummies.loc[891:]\n",
    "display(X_test)"
   ]
  },
  {
   "cell_type": "code",
   "execution_count": 23,
   "id": "035d9450",
   "metadata": {
    "execution": {
     "iopub.execute_input": "2022-01-13T18:20:39.035908Z",
     "iopub.status.busy": "2022-01-13T18:20:39.035248Z",
     "iopub.status.idle": "2022-01-13T18:20:39.262116Z",
     "shell.execute_reply": "2022-01-13T18:20:39.261477Z",
     "shell.execute_reply.started": "2022-01-13T18:20:11.692453Z"
    },
    "papermill": {
     "duration": 0.263559,
     "end_time": "2022-01-13T18:20:39.262256",
     "exception": false,
     "start_time": "2022-01-13T18:20:38.998697",
     "status": "completed"
    },
    "tags": []
   },
   "outputs": [
    {
     "name": "stdout",
     "output_type": "stream",
     "text": [
      "Your submission was successfully saved!\n"
     ]
    }
   ],
   "source": [
    "model = RandomForestClassifier(n_estimators=100, max_depth=5, random_state=1)\n",
    "model.fit(X, y)\n",
    "predictions = model.predict(X_test)\n",
    "\n",
    "output = pd.DataFrame({'PassengerId': test_data.PassengerId, 'Survived': predictions})\n",
    "# Convert 'Survived' to int\n",
    "output['Survived'] = output['Survived'].astype(int)\n",
    "output.to_csv('submission.csv', index=False)\n",
    "print(\"Your submission was successfully saved!\")"
   ]
  }
 ],
 "metadata": {
  "kernelspec": {
   "display_name": "Python 3",
   "language": "python",
   "name": "python3"
  },
  "language_info": {
   "codemirror_mode": {
    "name": "ipython",
    "version": 3
   },
   "file_extension": ".py",
   "mimetype": "text/x-python",
   "name": "python",
   "nbconvert_exporter": "python",
   "pygments_lexer": "ipython3",
   "version": "3.7.12"
  },
  "papermill": {
   "default_parameters": {},
   "duration": 14.64922,
   "end_time": "2022-01-13T18:20:40.004527",
   "environment_variables": {},
   "exception": null,
   "input_path": "__notebook__.ipynb",
   "output_path": "__notebook__.ipynb",
   "parameters": {},
   "start_time": "2022-01-13T18:20:25.355307",
   "version": "2.3.3"
  }
 },
 "nbformat": 4,
 "nbformat_minor": 5
}
